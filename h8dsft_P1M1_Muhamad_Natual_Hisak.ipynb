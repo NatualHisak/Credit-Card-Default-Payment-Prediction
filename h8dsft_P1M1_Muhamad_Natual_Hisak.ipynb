{
 "cells": [
  {
   "cell_type": "markdown",
   "metadata": {},
   "source": [
    "# Milestone 1"
   ]
  },
  {
   "cell_type": "markdown",
   "metadata": {
    "id": "srVv6tcUxFkS"
   },
   "source": [
    "# 1 - Perkenalan"
   ]
  },
  {
   "cell_type": "markdown",
   "metadata": {
    "id": "WMJ6bkx6xSkU"
   },
   "source": [
    "Nama : Muhamad Natual Hisak\n",
    "\n",
    "Batch : FTDS-016-RMT\n",
    "\n",
    "Dataset 1 : credit_card_default<br> (SELECT limit_balance, sex, education_level, marital_status, age, pay_0, pay_2, pay_3, pay_4, pay_5, pay_6, bill_amt_1, bill_amt_2, bill_amt_3, bill_amt_4, bill_amt_5, bill_amt_6, pay_amt_1, pay_amt_2, pay_amt_3, pay_amt_4, pay_amt_5, pay_amt_6, default_payment_next_month FROM `bigquery-public-data.ml_datasets.credit_card_default` LIMIT 32000)\n",
    "\n",
    "Objective 1 : Prediksi default_payment_next_month "
   ]
  },
  {
   "cell_type": "markdown",
   "metadata": {
    "id": "AwYnwlYVxhji"
   },
   "source": [
    "# 2 - Import Libraries"
   ]
  },
  {
   "cell_type": "code",
   "execution_count": 123,
   "metadata": {},
   "outputs": [],
   "source": [
    "import pandas as pd\n",
    "import numpy as np\n",
    "import matplotlib.pyplot as plt\n",
    "import seaborn as sns\n",
    "from sklearn.model_selection import train_test_split\n",
    "from sklearn.linear_model import LogisticRegression\n",
    "from sklearn.svm import SVC\n",
    "from sklearn.neighbors import KNeighborsClassifier\n",
    "from sklearn.naive_bayes import GaussianNB\n",
    "from sklearn.ensemble import RandomForestClassifier\n",
    "from sklearn.tree import DecisionTreeClassifier\n",
    "from sklearn.preprocessing import MinMaxScaler\n",
    "from sklearn.metrics import accuracy_score, precision_score, recall_score\n",
    "from sklearn.metrics import ConfusionMatrixDisplay,confusion_matrix\n",
    "from sklearn.feature_selection import SelectKBest, f_classif\n",
    "from sklearn.model_selection import cross_val_score\n",
    "from sklearn.model_selection import GridSearchCV\n",
    "import warnings\n",
    "import joblib"
   ]
  },
  {
   "cell_type": "markdown",
   "metadata": {
    "id": "KJ9pqgbKyBs7"
   },
   "source": [
    "# 3 - Data Loading"
   ]
  },
  {
   "cell_type": "code",
   "execution_count": 124,
   "metadata": {},
   "outputs": [],
   "source": [
    "warnings.filterwarnings(\"ignore\")"
   ]
  },
  {
   "cell_type": "markdown",
   "metadata": {},
   "source": [
    "Load dataset"
   ]
  },
  {
   "cell_type": "code",
   "execution_count": 125,
   "metadata": {},
   "outputs": [],
   "source": [
    "df = pd.read_csv(r'C:\\Users\\Omen\\Desktop\\Hacktiv8\\P1\\Milestone 1\\h8dsft_P1M1_Muhamad_Natual_Hisak.csv')\n"
   ]
  },
  {
   "cell_type": "code",
   "execution_count": 126,
   "metadata": {},
   "outputs": [],
   "source": [
    "pd.set_option(\"display.max.columns\", None)"
   ]
  },
  {
   "cell_type": "code",
   "execution_count": 127,
   "metadata": {},
   "outputs": [
    {
     "data": {
      "text/html": [
       "<div>\n",
       "<style scoped>\n",
       "    .dataframe tbody tr th:only-of-type {\n",
       "        vertical-align: middle;\n",
       "    }\n",
       "\n",
       "    .dataframe tbody tr th {\n",
       "        vertical-align: top;\n",
       "    }\n",
       "\n",
       "    .dataframe thead th {\n",
       "        text-align: right;\n",
       "    }\n",
       "</style>\n",
       "<table border=\"1\" class=\"dataframe\">\n",
       "  <thead>\n",
       "    <tr style=\"text-align: right;\">\n",
       "      <th></th>\n",
       "      <th>limit_balance</th>\n",
       "      <th>sex</th>\n",
       "      <th>education_level</th>\n",
       "      <th>marital_status</th>\n",
       "      <th>age</th>\n",
       "      <th>pay_0</th>\n",
       "      <th>pay_2</th>\n",
       "      <th>pay_3</th>\n",
       "      <th>pay_4</th>\n",
       "      <th>pay_5</th>\n",
       "      <th>pay_6</th>\n",
       "      <th>bill_amt_1</th>\n",
       "      <th>bill_amt_2</th>\n",
       "      <th>bill_amt_3</th>\n",
       "      <th>bill_amt_4</th>\n",
       "      <th>bill_amt_5</th>\n",
       "      <th>bill_amt_6</th>\n",
       "      <th>pay_amt_1</th>\n",
       "      <th>pay_amt_2</th>\n",
       "      <th>pay_amt_3</th>\n",
       "      <th>pay_amt_4</th>\n",
       "      <th>pay_amt_5</th>\n",
       "      <th>pay_amt_6</th>\n",
       "      <th>default_payment_next_month</th>\n",
       "    </tr>\n",
       "  </thead>\n",
       "  <tbody>\n",
       "    <tr>\n",
       "      <th>0</th>\n",
       "      <td>130000.0</td>\n",
       "      <td>1</td>\n",
       "      <td>1</td>\n",
       "      <td>1</td>\n",
       "      <td>45.0</td>\n",
       "      <td>0.0</td>\n",
       "      <td>0.0</td>\n",
       "      <td>0.0</td>\n",
       "      <td>0.0</td>\n",
       "      <td>0</td>\n",
       "      <td>0</td>\n",
       "      <td>58180.0</td>\n",
       "      <td>59134.0</td>\n",
       "      <td>61156.0</td>\n",
       "      <td>62377.0</td>\n",
       "      <td>63832.0</td>\n",
       "      <td>65099.0</td>\n",
       "      <td>2886.0</td>\n",
       "      <td>2908.0</td>\n",
       "      <td>2129.0</td>\n",
       "      <td>2354.0</td>\n",
       "      <td>2366.0</td>\n",
       "      <td>2291.0</td>\n",
       "      <td>0</td>\n",
       "    </tr>\n",
       "    <tr>\n",
       "      <th>1</th>\n",
       "      <td>230000.0</td>\n",
       "      <td>1</td>\n",
       "      <td>2</td>\n",
       "      <td>1</td>\n",
       "      <td>41.0</td>\n",
       "      <td>0.0</td>\n",
       "      <td>0.0</td>\n",
       "      <td>0.0</td>\n",
       "      <td>0.0</td>\n",
       "      <td>0</td>\n",
       "      <td>0</td>\n",
       "      <td>301038.0</td>\n",
       "      <td>305327.0</td>\n",
       "      <td>213058.0</td>\n",
       "      <td>216260.0</td>\n",
       "      <td>215968.0</td>\n",
       "      <td>174195.0</td>\n",
       "      <td>9405.0</td>\n",
       "      <td>7769.0</td>\n",
       "      <td>7757.0</td>\n",
       "      <td>8030.0</td>\n",
       "      <td>6549.0</td>\n",
       "      <td>5226.0</td>\n",
       "      <td>1</td>\n",
       "    </tr>\n",
       "    <tr>\n",
       "      <th>2</th>\n",
       "      <td>50000.0</td>\n",
       "      <td>1</td>\n",
       "      <td>2</td>\n",
       "      <td>1</td>\n",
       "      <td>42.0</td>\n",
       "      <td>0.0</td>\n",
       "      <td>0.0</td>\n",
       "      <td>0.0</td>\n",
       "      <td>0.0</td>\n",
       "      <td>0</td>\n",
       "      <td>2</td>\n",
       "      <td>35892.0</td>\n",
       "      <td>32546.0</td>\n",
       "      <td>30660.0</td>\n",
       "      <td>31320.0</td>\n",
       "      <td>36227.0</td>\n",
       "      <td>35569.0</td>\n",
       "      <td>2007.0</td>\n",
       "      <td>2000.0</td>\n",
       "      <td>1500.0</td>\n",
       "      <td>5400.0</td>\n",
       "      <td>0.0</td>\n",
       "      <td>3000.0</td>\n",
       "      <td>0</td>\n",
       "    </tr>\n",
       "    <tr>\n",
       "      <th>3</th>\n",
       "      <td>200000.0</td>\n",
       "      <td>1</td>\n",
       "      <td>1</td>\n",
       "      <td>1</td>\n",
       "      <td>58.0</td>\n",
       "      <td>0.0</td>\n",
       "      <td>0.0</td>\n",
       "      <td>0.0</td>\n",
       "      <td>0.0</td>\n",
       "      <td>0</td>\n",
       "      <td>0</td>\n",
       "      <td>192461.0</td>\n",
       "      <td>195970.0</td>\n",
       "      <td>122214.0</td>\n",
       "      <td>124647.0</td>\n",
       "      <td>126921.0</td>\n",
       "      <td>129167.0</td>\n",
       "      <td>7822.0</td>\n",
       "      <td>4417.0</td>\n",
       "      <td>4446.0</td>\n",
       "      <td>4597.0</td>\n",
       "      <td>4677.0</td>\n",
       "      <td>4698.0</td>\n",
       "      <td>0</td>\n",
       "    </tr>\n",
       "    <tr>\n",
       "      <th>4</th>\n",
       "      <td>500000.0</td>\n",
       "      <td>1</td>\n",
       "      <td>1</td>\n",
       "      <td>1</td>\n",
       "      <td>39.0</td>\n",
       "      <td>0.0</td>\n",
       "      <td>0.0</td>\n",
       "      <td>0.0</td>\n",
       "      <td>0.0</td>\n",
       "      <td>0</td>\n",
       "      <td>0</td>\n",
       "      <td>133598.0</td>\n",
       "      <td>167378.0</td>\n",
       "      <td>171106.0</td>\n",
       "      <td>174500.0</td>\n",
       "      <td>137406.0</td>\n",
       "      <td>204975.0</td>\n",
       "      <td>54209.0</td>\n",
       "      <td>4607.0</td>\n",
       "      <td>4603.0</td>\n",
       "      <td>5224.0</td>\n",
       "      <td>207440.0</td>\n",
       "      <td>7509.0</td>\n",
       "      <td>0</td>\n",
       "    </tr>\n",
       "  </tbody>\n",
       "</table>\n",
       "</div>"
      ],
      "text/plain": [
       "   limit_balance  sex  education_level  marital_status   age  pay_0  pay_2  \\\n",
       "0       130000.0    1                1               1  45.0    0.0    0.0   \n",
       "1       230000.0    1                2               1  41.0    0.0    0.0   \n",
       "2        50000.0    1                2               1  42.0    0.0    0.0   \n",
       "3       200000.0    1                1               1  58.0    0.0    0.0   \n",
       "4       500000.0    1                1               1  39.0    0.0    0.0   \n",
       "\n",
       "   pay_3  pay_4  pay_5  pay_6  bill_amt_1  bill_amt_2  bill_amt_3  bill_amt_4  \\\n",
       "0    0.0    0.0      0      0     58180.0     59134.0     61156.0     62377.0   \n",
       "1    0.0    0.0      0      0    301038.0    305327.0    213058.0    216260.0   \n",
       "2    0.0    0.0      0      2     35892.0     32546.0     30660.0     31320.0   \n",
       "3    0.0    0.0      0      0    192461.0    195970.0    122214.0    124647.0   \n",
       "4    0.0    0.0      0      0    133598.0    167378.0    171106.0    174500.0   \n",
       "\n",
       "   bill_amt_5  bill_amt_6  pay_amt_1  pay_amt_2  pay_amt_3  pay_amt_4  \\\n",
       "0     63832.0     65099.0     2886.0     2908.0     2129.0     2354.0   \n",
       "1    215968.0    174195.0     9405.0     7769.0     7757.0     8030.0   \n",
       "2     36227.0     35569.0     2007.0     2000.0     1500.0     5400.0   \n",
       "3    126921.0    129167.0     7822.0     4417.0     4446.0     4597.0   \n",
       "4    137406.0    204975.0    54209.0     4607.0     4603.0     5224.0   \n",
       "\n",
       "   pay_amt_5  pay_amt_6  default_payment_next_month  \n",
       "0     2366.0     2291.0                           0  \n",
       "1     6549.0     5226.0                           1  \n",
       "2        0.0     3000.0                           0  \n",
       "3     4677.0     4698.0                           0  \n",
       "4   207440.0     7509.0                           0  "
      ]
     },
     "execution_count": 127,
     "metadata": {},
     "output_type": "execute_result"
    }
   ],
   "source": [
    "df.head()"
   ]
  },
  {
   "cell_type": "code",
   "execution_count": 128,
   "metadata": {},
   "outputs": [
    {
     "data": {
      "text/html": [
       "<div>\n",
       "<style scoped>\n",
       "    .dataframe tbody tr th:only-of-type {\n",
       "        vertical-align: middle;\n",
       "    }\n",
       "\n",
       "    .dataframe tbody tr th {\n",
       "        vertical-align: top;\n",
       "    }\n",
       "\n",
       "    .dataframe thead th {\n",
       "        text-align: right;\n",
       "    }\n",
       "</style>\n",
       "<table border=\"1\" class=\"dataframe\">\n",
       "  <thead>\n",
       "    <tr style=\"text-align: right;\">\n",
       "      <th></th>\n",
       "      <th>limit_balance</th>\n",
       "      <th>sex</th>\n",
       "      <th>education_level</th>\n",
       "      <th>marital_status</th>\n",
       "      <th>age</th>\n",
       "      <th>pay_0</th>\n",
       "      <th>pay_2</th>\n",
       "      <th>pay_3</th>\n",
       "      <th>pay_4</th>\n",
       "      <th>pay_5</th>\n",
       "      <th>pay_6</th>\n",
       "      <th>bill_amt_1</th>\n",
       "      <th>bill_amt_2</th>\n",
       "      <th>bill_amt_3</th>\n",
       "      <th>bill_amt_4</th>\n",
       "      <th>bill_amt_5</th>\n",
       "      <th>bill_amt_6</th>\n",
       "      <th>pay_amt_1</th>\n",
       "      <th>pay_amt_2</th>\n",
       "      <th>pay_amt_3</th>\n",
       "      <th>pay_amt_4</th>\n",
       "      <th>pay_amt_5</th>\n",
       "      <th>pay_amt_6</th>\n",
       "      <th>default_payment_next_month</th>\n",
       "    </tr>\n",
       "  </thead>\n",
       "  <tbody>\n",
       "    <tr>\n",
       "      <th>2960</th>\n",
       "      <td>80000.0</td>\n",
       "      <td>2</td>\n",
       "      <td>3</td>\n",
       "      <td>1</td>\n",
       "      <td>39.0</td>\n",
       "      <td>-1.0</td>\n",
       "      <td>-1.0</td>\n",
       "      <td>-1.0</td>\n",
       "      <td>-1.0</td>\n",
       "      <td>-2</td>\n",
       "      <td>-1</td>\n",
       "      <td>5280.0</td>\n",
       "      <td>5000.0</td>\n",
       "      <td>5000.0</td>\n",
       "      <td>0.0</td>\n",
       "      <td>0.0</td>\n",
       "      <td>5000.0</td>\n",
       "      <td>5000.0</td>\n",
       "      <td>5000.0</td>\n",
       "      <td>0.0</td>\n",
       "      <td>5000.0</td>\n",
       "      <td>5000.0</td>\n",
       "      <td>470.0</td>\n",
       "      <td>0</td>\n",
       "    </tr>\n",
       "    <tr>\n",
       "      <th>2961</th>\n",
       "      <td>110000.0</td>\n",
       "      <td>2</td>\n",
       "      <td>2</td>\n",
       "      <td>2</td>\n",
       "      <td>24.0</td>\n",
       "      <td>-1.0</td>\n",
       "      <td>-1.0</td>\n",
       "      <td>-1.0</td>\n",
       "      <td>-1.0</td>\n",
       "      <td>0</td>\n",
       "      <td>0</td>\n",
       "      <td>1362.0</td>\n",
       "      <td>1352.0</td>\n",
       "      <td>1867.0</td>\n",
       "      <td>36986.0</td>\n",
       "      <td>40053.0</td>\n",
       "      <td>41196.0</td>\n",
       "      <td>1352.0</td>\n",
       "      <td>1867.0</td>\n",
       "      <td>36986.0</td>\n",
       "      <td>5000.0</td>\n",
       "      <td>3000.0</td>\n",
       "      <td>23000.0</td>\n",
       "      <td>0</td>\n",
       "    </tr>\n",
       "    <tr>\n",
       "      <th>2962</th>\n",
       "      <td>160000.0</td>\n",
       "      <td>2</td>\n",
       "      <td>1</td>\n",
       "      <td>2</td>\n",
       "      <td>32.0</td>\n",
       "      <td>-1.0</td>\n",
       "      <td>-1.0</td>\n",
       "      <td>-1.0</td>\n",
       "      <td>-1.0</td>\n",
       "      <td>-1</td>\n",
       "      <td>-1</td>\n",
       "      <td>9441.0</td>\n",
       "      <td>5714.0</td>\n",
       "      <td>5030.0</td>\n",
       "      <td>3181.0</td>\n",
       "      <td>4998.0</td>\n",
       "      <td>1250.0</td>\n",
       "      <td>5726.0</td>\n",
       "      <td>5037.0</td>\n",
       "      <td>3182.0</td>\n",
       "      <td>5000.0</td>\n",
       "      <td>1252.0</td>\n",
       "      <td>749.0</td>\n",
       "      <td>0</td>\n",
       "    </tr>\n",
       "    <tr>\n",
       "      <th>2963</th>\n",
       "      <td>210000.0</td>\n",
       "      <td>2</td>\n",
       "      <td>1</td>\n",
       "      <td>1</td>\n",
       "      <td>38.0</td>\n",
       "      <td>0.0</td>\n",
       "      <td>0.0</td>\n",
       "      <td>-1.0</td>\n",
       "      <td>-1.0</td>\n",
       "      <td>0</td>\n",
       "      <td>0</td>\n",
       "      <td>8420.0</td>\n",
       "      <td>8106.0</td>\n",
       "      <td>4168.0</td>\n",
       "      <td>23067.0</td>\n",
       "      <td>19972.0</td>\n",
       "      <td>45864.0</td>\n",
       "      <td>3000.0</td>\n",
       "      <td>4521.0</td>\n",
       "      <td>24000.0</td>\n",
       "      <td>10000.0</td>\n",
       "      <td>30000.0</td>\n",
       "      <td>6432.0</td>\n",
       "      <td>0</td>\n",
       "    </tr>\n",
       "    <tr>\n",
       "      <th>2964</th>\n",
       "      <td>360000.0</td>\n",
       "      <td>2</td>\n",
       "      <td>2</td>\n",
       "      <td>1</td>\n",
       "      <td>37.0</td>\n",
       "      <td>-1.0</td>\n",
       "      <td>-1.0</td>\n",
       "      <td>0.0</td>\n",
       "      <td>-1.0</td>\n",
       "      <td>-1</td>\n",
       "      <td>-1</td>\n",
       "      <td>10000.0</td>\n",
       "      <td>17444.0</td>\n",
       "      <td>17165.0</td>\n",
       "      <td>10000.0</td>\n",
       "      <td>10000.0</td>\n",
       "      <td>10000.0</td>\n",
       "      <td>17444.0</td>\n",
       "      <td>10035.0</td>\n",
       "      <td>10000.0</td>\n",
       "      <td>10000.0</td>\n",
       "      <td>10000.0</td>\n",
       "      <td>0.0</td>\n",
       "      <td>0</td>\n",
       "    </tr>\n",
       "  </tbody>\n",
       "</table>\n",
       "</div>"
      ],
      "text/plain": [
       "      limit_balance  sex  education_level  marital_status   age  pay_0  pay_2  \\\n",
       "2960        80000.0    2                3               1  39.0   -1.0   -1.0   \n",
       "2961       110000.0    2                2               2  24.0   -1.0   -1.0   \n",
       "2962       160000.0    2                1               2  32.0   -1.0   -1.0   \n",
       "2963       210000.0    2                1               1  38.0    0.0    0.0   \n",
       "2964       360000.0    2                2               1  37.0   -1.0   -1.0   \n",
       "\n",
       "      pay_3  pay_4  pay_5  pay_6  bill_amt_1  bill_amt_2  bill_amt_3  \\\n",
       "2960   -1.0   -1.0     -2     -1      5280.0      5000.0      5000.0   \n",
       "2961   -1.0   -1.0      0      0      1362.0      1352.0      1867.0   \n",
       "2962   -1.0   -1.0     -1     -1      9441.0      5714.0      5030.0   \n",
       "2963   -1.0   -1.0      0      0      8420.0      8106.0      4168.0   \n",
       "2964    0.0   -1.0     -1     -1     10000.0     17444.0     17165.0   \n",
       "\n",
       "      bill_amt_4  bill_amt_5  bill_amt_6  pay_amt_1  pay_amt_2  pay_amt_3  \\\n",
       "2960         0.0         0.0      5000.0     5000.0     5000.0        0.0   \n",
       "2961     36986.0     40053.0     41196.0     1352.0     1867.0    36986.0   \n",
       "2962      3181.0      4998.0      1250.0     5726.0     5037.0     3182.0   \n",
       "2963     23067.0     19972.0     45864.0     3000.0     4521.0    24000.0   \n",
       "2964     10000.0     10000.0     10000.0    17444.0    10035.0    10000.0   \n",
       "\n",
       "      pay_amt_4  pay_amt_5  pay_amt_6  default_payment_next_month  \n",
       "2960     5000.0     5000.0      470.0                           0  \n",
       "2961     5000.0     3000.0    23000.0                           0  \n",
       "2962     5000.0     1252.0      749.0                           0  \n",
       "2963    10000.0    30000.0     6432.0                           0  \n",
       "2964    10000.0    10000.0        0.0                           0  "
      ]
     },
     "execution_count": 128,
     "metadata": {},
     "output_type": "execute_result"
    }
   ],
   "source": [
    "df.tail()"
   ]
  },
  {
   "cell_type": "markdown",
   "metadata": {},
   "source": [
    "Copy data ke variabel baru"
   ]
  },
  {
   "cell_type": "code",
   "execution_count": 129,
   "metadata": {},
   "outputs": [],
   "source": [
    "dfc = df.copy()"
   ]
  },
  {
   "cell_type": "markdown",
   "metadata": {
    "id": "w9g9FUqe0rZJ"
   },
   "source": [
    "# 4 - Exploratory Data Analysis (EDA)"
   ]
  },
  {
   "cell_type": "markdown",
   "metadata": {},
   "source": [
    "Lihat missing value tiap kolom dan data type"
   ]
  },
  {
   "cell_type": "code",
   "execution_count": 130,
   "metadata": {},
   "outputs": [
    {
     "name": "stdout",
     "output_type": "stream",
     "text": [
      "<class 'pandas.core.frame.DataFrame'>\n",
      "RangeIndex: 2965 entries, 0 to 2964\n",
      "Data columns (total 24 columns):\n",
      " #   Column                      Non-Null Count  Dtype  \n",
      "---  ------                      --------------  -----  \n",
      " 0   limit_balance               2965 non-null   float64\n",
      " 1   sex                         2965 non-null   int64  \n",
      " 2   education_level             2965 non-null   int64  \n",
      " 3   marital_status              2965 non-null   int64  \n",
      " 4   age                         2965 non-null   float64\n",
      " 5   pay_0                       2965 non-null   float64\n",
      " 6   pay_2                       2965 non-null   float64\n",
      " 7   pay_3                       2965 non-null   float64\n",
      " 8   pay_4                       2965 non-null   float64\n",
      " 9   pay_5                       2965 non-null   int64  \n",
      " 10  pay_6                       2965 non-null   int64  \n",
      " 11  bill_amt_1                  2965 non-null   float64\n",
      " 12  bill_amt_2                  2965 non-null   float64\n",
      " 13  bill_amt_3                  2965 non-null   float64\n",
      " 14  bill_amt_4                  2965 non-null   float64\n",
      " 15  bill_amt_5                  2965 non-null   float64\n",
      " 16  bill_amt_6                  2965 non-null   float64\n",
      " 17  pay_amt_1                   2965 non-null   float64\n",
      " 18  pay_amt_2                   2965 non-null   float64\n",
      " 19  pay_amt_3                   2965 non-null   float64\n",
      " 20  pay_amt_4                   2965 non-null   float64\n",
      " 21  pay_amt_5                   2965 non-null   float64\n",
      " 22  pay_amt_6                   2965 non-null   float64\n",
      " 23  default_payment_next_month  2965 non-null   int64  \n",
      "dtypes: float64(18), int64(6)\n",
      "memory usage: 556.1 KB\n"
     ]
    }
   ],
   "source": [
    "df.info(null_counts=True)"
   ]
  },
  {
   "cell_type": "markdown",
   "metadata": {},
   "source": [
    "Tidak ada missing value dan semua kolom numerikal"
   ]
  },
  {
   "cell_type": "markdown",
   "metadata": {},
   "source": [
    "Cek value count kolom target"
   ]
  },
  {
   "cell_type": "code",
   "execution_count": 131,
   "metadata": {},
   "outputs": [
    {
     "data": {
      "text/plain": [
       "0    2330\n",
       "1     635\n",
       "Name: default_payment_next_month, dtype: int64"
      ]
     },
     "execution_count": 131,
     "metadata": {},
     "output_type": "execute_result"
    }
   ],
   "source": [
    "df['default_payment_next_month'].value_counts()"
   ]
  },
  {
   "cell_type": "markdown",
   "metadata": {},
   "source": [
    "Cek korelasi"
   ]
  },
  {
   "cell_type": "code",
   "execution_count": 132,
   "metadata": {},
   "outputs": [
    {
     "data": {
      "text/html": [
       "<div>\n",
       "<style scoped>\n",
       "    .dataframe tbody tr th:only-of-type {\n",
       "        vertical-align: middle;\n",
       "    }\n",
       "\n",
       "    .dataframe tbody tr th {\n",
       "        vertical-align: top;\n",
       "    }\n",
       "\n",
       "    .dataframe thead th {\n",
       "        text-align: right;\n",
       "    }\n",
       "</style>\n",
       "<table border=\"1\" class=\"dataframe\">\n",
       "  <thead>\n",
       "    <tr style=\"text-align: right;\">\n",
       "      <th></th>\n",
       "      <th>limit_balance</th>\n",
       "      <th>sex</th>\n",
       "      <th>education_level</th>\n",
       "      <th>marital_status</th>\n",
       "      <th>age</th>\n",
       "      <th>pay_0</th>\n",
       "      <th>pay_2</th>\n",
       "      <th>pay_3</th>\n",
       "      <th>pay_4</th>\n",
       "      <th>pay_5</th>\n",
       "      <th>pay_6</th>\n",
       "      <th>bill_amt_1</th>\n",
       "      <th>bill_amt_2</th>\n",
       "      <th>bill_amt_3</th>\n",
       "      <th>bill_amt_4</th>\n",
       "      <th>bill_amt_5</th>\n",
       "      <th>bill_amt_6</th>\n",
       "      <th>pay_amt_1</th>\n",
       "      <th>pay_amt_2</th>\n",
       "      <th>pay_amt_3</th>\n",
       "      <th>pay_amt_4</th>\n",
       "      <th>pay_amt_5</th>\n",
       "      <th>pay_amt_6</th>\n",
       "      <th>default_payment_next_month</th>\n",
       "    </tr>\n",
       "  </thead>\n",
       "  <tbody>\n",
       "    <tr>\n",
       "      <th>limit_balance</th>\n",
       "      <td>1.000000</td>\n",
       "      <td>0.061210</td>\n",
       "      <td>-0.253357</td>\n",
       "      <td>-0.119561</td>\n",
       "      <td>0.184518</td>\n",
       "      <td>-0.243146</td>\n",
       "      <td>-0.322271</td>\n",
       "      <td>-0.312576</td>\n",
       "      <td>-0.282085</td>\n",
       "      <td>-0.266779</td>\n",
       "      <td>-0.246150</td>\n",
       "      <td>0.090185</td>\n",
       "      <td>0.087058</td>\n",
       "      <td>0.096425</td>\n",
       "      <td>0.107477</td>\n",
       "      <td>0.112764</td>\n",
       "      <td>0.118347</td>\n",
       "      <td>0.286469</td>\n",
       "      <td>0.278651</td>\n",
       "      <td>0.282385</td>\n",
       "      <td>0.288044</td>\n",
       "      <td>0.299103</td>\n",
       "      <td>0.313723</td>\n",
       "      <td>-0.173945</td>\n",
       "    </tr>\n",
       "    <tr>\n",
       "      <th>sex</th>\n",
       "      <td>0.061210</td>\n",
       "      <td>1.000000</td>\n",
       "      <td>-0.004018</td>\n",
       "      <td>-0.012089</td>\n",
       "      <td>-0.138173</td>\n",
       "      <td>-0.068582</td>\n",
       "      <td>-0.103479</td>\n",
       "      <td>-0.099559</td>\n",
       "      <td>-0.071169</td>\n",
       "      <td>-0.052851</td>\n",
       "      <td>-0.044285</td>\n",
       "      <td>-0.069827</td>\n",
       "      <td>-0.067161</td>\n",
       "      <td>-0.047877</td>\n",
       "      <td>-0.030803</td>\n",
       "      <td>-0.024946</td>\n",
       "      <td>-0.028069</td>\n",
       "      <td>-0.019805</td>\n",
       "      <td>0.006786</td>\n",
       "      <td>0.017807</td>\n",
       "      <td>0.006860</td>\n",
       "      <td>0.005315</td>\n",
       "      <td>0.022989</td>\n",
       "      <td>-0.021765</td>\n",
       "    </tr>\n",
       "    <tr>\n",
       "      <th>education_level</th>\n",
       "      <td>-0.253357</td>\n",
       "      <td>-0.004018</td>\n",
       "      <td>1.000000</td>\n",
       "      <td>-0.154977</td>\n",
       "      <td>0.177698</td>\n",
       "      <td>0.106659</td>\n",
       "      <td>0.139402</td>\n",
       "      <td>0.140373</td>\n",
       "      <td>0.131784</td>\n",
       "      <td>0.123111</td>\n",
       "      <td>0.105467</td>\n",
       "      <td>0.073044</td>\n",
       "      <td>0.072080</td>\n",
       "      <td>0.062308</td>\n",
       "      <td>0.047236</td>\n",
       "      <td>0.035089</td>\n",
       "      <td>0.035988</td>\n",
       "      <td>-0.039012</td>\n",
       "      <td>-0.054404</td>\n",
       "      <td>-0.043917</td>\n",
       "      <td>-0.039684</td>\n",
       "      <td>-0.051381</td>\n",
       "      <td>-0.066543</td>\n",
       "      <td>0.060871</td>\n",
       "    </tr>\n",
       "    <tr>\n",
       "      <th>marital_status</th>\n",
       "      <td>-0.119561</td>\n",
       "      <td>-0.012089</td>\n",
       "      <td>-0.154977</td>\n",
       "      <td>1.000000</td>\n",
       "      <td>-0.448085</td>\n",
       "      <td>-0.002957</td>\n",
       "      <td>0.061185</td>\n",
       "      <td>0.048316</td>\n",
       "      <td>0.052755</td>\n",
       "      <td>0.055952</td>\n",
       "      <td>0.062868</td>\n",
       "      <td>0.011392</td>\n",
       "      <td>0.012395</td>\n",
       "      <td>0.009046</td>\n",
       "      <td>0.010169</td>\n",
       "      <td>0.014349</td>\n",
       "      <td>0.012940</td>\n",
       "      <td>-0.008213</td>\n",
       "      <td>-0.013855</td>\n",
       "      <td>-0.000542</td>\n",
       "      <td>0.004927</td>\n",
       "      <td>-0.004731</td>\n",
       "      <td>0.012245</td>\n",
       "      <td>-0.026406</td>\n",
       "    </tr>\n",
       "    <tr>\n",
       "      <th>age</th>\n",
       "      <td>0.184518</td>\n",
       "      <td>-0.138173</td>\n",
       "      <td>0.177698</td>\n",
       "      <td>-0.448085</td>\n",
       "      <td>1.000000</td>\n",
       "      <td>-0.035314</td>\n",
       "      <td>-0.097816</td>\n",
       "      <td>-0.087288</td>\n",
       "      <td>-0.094178</td>\n",
       "      <td>-0.101923</td>\n",
       "      <td>-0.080080</td>\n",
       "      <td>0.018781</td>\n",
       "      <td>0.016657</td>\n",
       "      <td>0.006416</td>\n",
       "      <td>-0.009479</td>\n",
       "      <td>0.012745</td>\n",
       "      <td>0.020383</td>\n",
       "      <td>0.041200</td>\n",
       "      <td>0.019718</td>\n",
       "      <td>0.008221</td>\n",
       "      <td>0.046807</td>\n",
       "      <td>0.044513</td>\n",
       "      <td>0.021471</td>\n",
       "      <td>0.009883</td>\n",
       "    </tr>\n",
       "    <tr>\n",
       "      <th>pay_0</th>\n",
       "      <td>-0.243146</td>\n",
       "      <td>-0.068582</td>\n",
       "      <td>0.106659</td>\n",
       "      <td>-0.002957</td>\n",
       "      <td>-0.035314</td>\n",
       "      <td>1.000000</td>\n",
       "      <td>0.604041</td>\n",
       "      <td>0.513675</td>\n",
       "      <td>0.485532</td>\n",
       "      <td>0.462039</td>\n",
       "      <td>0.441509</td>\n",
       "      <td>0.287572</td>\n",
       "      <td>0.294629</td>\n",
       "      <td>0.280028</td>\n",
       "      <td>0.279062</td>\n",
       "      <td>0.265537</td>\n",
       "      <td>0.263049</td>\n",
       "      <td>-0.119752</td>\n",
       "      <td>-0.089490</td>\n",
       "      <td>-0.072489</td>\n",
       "      <td>-0.049151</td>\n",
       "      <td>-0.031649</td>\n",
       "      <td>-0.072462</td>\n",
       "      <td>0.326925</td>\n",
       "    </tr>\n",
       "    <tr>\n",
       "      <th>pay_2</th>\n",
       "      <td>-0.322271</td>\n",
       "      <td>-0.103479</td>\n",
       "      <td>0.139402</td>\n",
       "      <td>0.061185</td>\n",
       "      <td>-0.097816</td>\n",
       "      <td>0.604041</td>\n",
       "      <td>1.000000</td>\n",
       "      <td>0.795529</td>\n",
       "      <td>0.687891</td>\n",
       "      <td>0.648177</td>\n",
       "      <td>0.616631</td>\n",
       "      <td>0.560232</td>\n",
       "      <td>0.531168</td>\n",
       "      <td>0.495278</td>\n",
       "      <td>0.484681</td>\n",
       "      <td>0.457926</td>\n",
       "      <td>0.441152</td>\n",
       "      <td>0.012918</td>\n",
       "      <td>0.073159</td>\n",
       "      <td>0.090562</td>\n",
       "      <td>0.092032</td>\n",
       "      <td>0.096659</td>\n",
       "      <td>0.050879</td>\n",
       "      <td>0.246067</td>\n",
       "    </tr>\n",
       "    <tr>\n",
       "      <th>pay_3</th>\n",
       "      <td>-0.312576</td>\n",
       "      <td>-0.099559</td>\n",
       "      <td>0.140373</td>\n",
       "      <td>0.048316</td>\n",
       "      <td>-0.087288</td>\n",
       "      <td>0.513675</td>\n",
       "      <td>0.795529</td>\n",
       "      <td>1.000000</td>\n",
       "      <td>0.766954</td>\n",
       "      <td>0.699569</td>\n",
       "      <td>0.647212</td>\n",
       "      <td>0.515620</td>\n",
       "      <td>0.579671</td>\n",
       "      <td>0.537192</td>\n",
       "      <td>0.522243</td>\n",
       "      <td>0.497652</td>\n",
       "      <td>0.467658</td>\n",
       "      <td>0.209755</td>\n",
       "      <td>0.015870</td>\n",
       "      <td>0.108722</td>\n",
       "      <td>0.122636</td>\n",
       "      <td>0.107359</td>\n",
       "      <td>0.074539</td>\n",
       "      <td>0.227406</td>\n",
       "    </tr>\n",
       "    <tr>\n",
       "      <th>pay_4</th>\n",
       "      <td>-0.282085</td>\n",
       "      <td>-0.071169</td>\n",
       "      <td>0.131784</td>\n",
       "      <td>0.052755</td>\n",
       "      <td>-0.094178</td>\n",
       "      <td>0.485532</td>\n",
       "      <td>0.687891</td>\n",
       "      <td>0.766954</td>\n",
       "      <td>1.000000</td>\n",
       "      <td>0.816483</td>\n",
       "      <td>0.713362</td>\n",
       "      <td>0.495276</td>\n",
       "      <td>0.533756</td>\n",
       "      <td>0.598335</td>\n",
       "      <td>0.581214</td>\n",
       "      <td>0.554219</td>\n",
       "      <td>0.523361</td>\n",
       "      <td>0.170441</td>\n",
       "      <td>0.236476</td>\n",
       "      <td>0.065366</td>\n",
       "      <td>0.157103</td>\n",
       "      <td>0.154337</td>\n",
       "      <td>0.119362</td>\n",
       "      <td>0.210646</td>\n",
       "    </tr>\n",
       "    <tr>\n",
       "      <th>pay_5</th>\n",
       "      <td>-0.266779</td>\n",
       "      <td>-0.052851</td>\n",
       "      <td>0.123111</td>\n",
       "      <td>0.055952</td>\n",
       "      <td>-0.101923</td>\n",
       "      <td>0.462039</td>\n",
       "      <td>0.648177</td>\n",
       "      <td>0.699569</td>\n",
       "      <td>0.816483</td>\n",
       "      <td>1.000000</td>\n",
       "      <td>0.809355</td>\n",
       "      <td>0.476296</td>\n",
       "      <td>0.510179</td>\n",
       "      <td>0.563600</td>\n",
       "      <td>0.629037</td>\n",
       "      <td>0.602556</td>\n",
       "      <td>0.555000</td>\n",
       "      <td>0.142320</td>\n",
       "      <td>0.202617</td>\n",
       "      <td>0.247853</td>\n",
       "      <td>0.107817</td>\n",
       "      <td>0.162901</td>\n",
       "      <td>0.152184</td>\n",
       "      <td>0.210866</td>\n",
       "    </tr>\n",
       "    <tr>\n",
       "      <th>pay_6</th>\n",
       "      <td>-0.246150</td>\n",
       "      <td>-0.044285</td>\n",
       "      <td>0.105467</td>\n",
       "      <td>0.062868</td>\n",
       "      <td>-0.080080</td>\n",
       "      <td>0.441509</td>\n",
       "      <td>0.616631</td>\n",
       "      <td>0.647212</td>\n",
       "      <td>0.713362</td>\n",
       "      <td>0.809355</td>\n",
       "      <td>1.000000</td>\n",
       "      <td>0.464328</td>\n",
       "      <td>0.502069</td>\n",
       "      <td>0.534708</td>\n",
       "      <td>0.583796</td>\n",
       "      <td>0.653959</td>\n",
       "      <td>0.615006</td>\n",
       "      <td>0.147121</td>\n",
       "      <td>0.171522</td>\n",
       "      <td>0.223301</td>\n",
       "      <td>0.281953</td>\n",
       "      <td>0.130354</td>\n",
       "      <td>0.180267</td>\n",
       "      <td>0.194239</td>\n",
       "    </tr>\n",
       "    <tr>\n",
       "      <th>bill_amt_1</th>\n",
       "      <td>0.090185</td>\n",
       "      <td>-0.069827</td>\n",
       "      <td>0.073044</td>\n",
       "      <td>0.011392</td>\n",
       "      <td>0.018781</td>\n",
       "      <td>0.287572</td>\n",
       "      <td>0.560232</td>\n",
       "      <td>0.515620</td>\n",
       "      <td>0.495276</td>\n",
       "      <td>0.476296</td>\n",
       "      <td>0.464328</td>\n",
       "      <td>1.000000</td>\n",
       "      <td>0.911038</td>\n",
       "      <td>0.858187</td>\n",
       "      <td>0.805016</td>\n",
       "      <td>0.765460</td>\n",
       "      <td>0.733294</td>\n",
       "      <td>0.504738</td>\n",
       "      <td>0.464581</td>\n",
       "      <td>0.444212</td>\n",
       "      <td>0.446975</td>\n",
       "      <td>0.426776</td>\n",
       "      <td>0.385637</td>\n",
       "      <td>-0.003601</td>\n",
       "    </tr>\n",
       "    <tr>\n",
       "      <th>bill_amt_2</th>\n",
       "      <td>0.087058</td>\n",
       "      <td>-0.067161</td>\n",
       "      <td>0.072080</td>\n",
       "      <td>0.012395</td>\n",
       "      <td>0.016657</td>\n",
       "      <td>0.294629</td>\n",
       "      <td>0.531168</td>\n",
       "      <td>0.579671</td>\n",
       "      <td>0.533756</td>\n",
       "      <td>0.510179</td>\n",
       "      <td>0.502069</td>\n",
       "      <td>0.911038</td>\n",
       "      <td>1.000000</td>\n",
       "      <td>0.910268</td>\n",
       "      <td>0.851650</td>\n",
       "      <td>0.808068</td>\n",
       "      <td>0.766769</td>\n",
       "      <td>0.634842</td>\n",
       "      <td>0.487762</td>\n",
       "      <td>0.475622</td>\n",
       "      <td>0.474629</td>\n",
       "      <td>0.449505</td>\n",
       "      <td>0.407807</td>\n",
       "      <td>0.006791</td>\n",
       "    </tr>\n",
       "    <tr>\n",
       "      <th>bill_amt_3</th>\n",
       "      <td>0.096425</td>\n",
       "      <td>-0.047877</td>\n",
       "      <td>0.062308</td>\n",
       "      <td>0.009046</td>\n",
       "      <td>0.006416</td>\n",
       "      <td>0.280028</td>\n",
       "      <td>0.495278</td>\n",
       "      <td>0.537192</td>\n",
       "      <td>0.598335</td>\n",
       "      <td>0.563600</td>\n",
       "      <td>0.534708</td>\n",
       "      <td>0.858187</td>\n",
       "      <td>0.910268</td>\n",
       "      <td>1.000000</td>\n",
       "      <td>0.901918</td>\n",
       "      <td>0.852460</td>\n",
       "      <td>0.806140</td>\n",
       "      <td>0.551230</td>\n",
       "      <td>0.629043</td>\n",
       "      <td>0.502978</td>\n",
       "      <td>0.505879</td>\n",
       "      <td>0.476766</td>\n",
       "      <td>0.452345</td>\n",
       "      <td>0.010781</td>\n",
       "    </tr>\n",
       "    <tr>\n",
       "      <th>bill_amt_4</th>\n",
       "      <td>0.107477</td>\n",
       "      <td>-0.030803</td>\n",
       "      <td>0.047236</td>\n",
       "      <td>0.010169</td>\n",
       "      <td>-0.009479</td>\n",
       "      <td>0.279062</td>\n",
       "      <td>0.484681</td>\n",
       "      <td>0.522243</td>\n",
       "      <td>0.581214</td>\n",
       "      <td>0.629037</td>\n",
       "      <td>0.583796</td>\n",
       "      <td>0.805016</td>\n",
       "      <td>0.851650</td>\n",
       "      <td>0.901918</td>\n",
       "      <td>1.000000</td>\n",
       "      <td>0.910715</td>\n",
       "      <td>0.853420</td>\n",
       "      <td>0.509258</td>\n",
       "      <td>0.538717</td>\n",
       "      <td>0.638261</td>\n",
       "      <td>0.523062</td>\n",
       "      <td>0.512050</td>\n",
       "      <td>0.474313</td>\n",
       "      <td>0.017695</td>\n",
       "    </tr>\n",
       "    <tr>\n",
       "      <th>bill_amt_5</th>\n",
       "      <td>0.112764</td>\n",
       "      <td>-0.024946</td>\n",
       "      <td>0.035089</td>\n",
       "      <td>0.014349</td>\n",
       "      <td>0.012745</td>\n",
       "      <td>0.265537</td>\n",
       "      <td>0.457926</td>\n",
       "      <td>0.497652</td>\n",
       "      <td>0.554219</td>\n",
       "      <td>0.602556</td>\n",
       "      <td>0.653959</td>\n",
       "      <td>0.765460</td>\n",
       "      <td>0.808068</td>\n",
       "      <td>0.852460</td>\n",
       "      <td>0.910715</td>\n",
       "      <td>1.000000</td>\n",
       "      <td>0.908812</td>\n",
       "      <td>0.488988</td>\n",
       "      <td>0.504980</td>\n",
       "      <td>0.557991</td>\n",
       "      <td>0.653811</td>\n",
       "      <td>0.526311</td>\n",
       "      <td>0.506113</td>\n",
       "      <td>0.022826</td>\n",
       "    </tr>\n",
       "    <tr>\n",
       "      <th>bill_amt_6</th>\n",
       "      <td>0.118347</td>\n",
       "      <td>-0.028069</td>\n",
       "      <td>0.035988</td>\n",
       "      <td>0.012940</td>\n",
       "      <td>0.020383</td>\n",
       "      <td>0.263049</td>\n",
       "      <td>0.441152</td>\n",
       "      <td>0.467658</td>\n",
       "      <td>0.523361</td>\n",
       "      <td>0.555000</td>\n",
       "      <td>0.615006</td>\n",
       "      <td>0.733294</td>\n",
       "      <td>0.766769</td>\n",
       "      <td>0.806140</td>\n",
       "      <td>0.853420</td>\n",
       "      <td>0.908812</td>\n",
       "      <td>1.000000</td>\n",
       "      <td>0.447886</td>\n",
       "      <td>0.470113</td>\n",
       "      <td>0.514793</td>\n",
       "      <td>0.583872</td>\n",
       "      <td>0.662261</td>\n",
       "      <td>0.515799</td>\n",
       "      <td>0.028843</td>\n",
       "    </tr>\n",
       "    <tr>\n",
       "      <th>pay_amt_1</th>\n",
       "      <td>0.286469</td>\n",
       "      <td>-0.019805</td>\n",
       "      <td>-0.039012</td>\n",
       "      <td>-0.008213</td>\n",
       "      <td>0.041200</td>\n",
       "      <td>-0.119752</td>\n",
       "      <td>0.012918</td>\n",
       "      <td>0.209755</td>\n",
       "      <td>0.170441</td>\n",
       "      <td>0.142320</td>\n",
       "      <td>0.147121</td>\n",
       "      <td>0.504738</td>\n",
       "      <td>0.634842</td>\n",
       "      <td>0.551230</td>\n",
       "      <td>0.509258</td>\n",
       "      <td>0.488988</td>\n",
       "      <td>0.447886</td>\n",
       "      <td>1.000000</td>\n",
       "      <td>0.502030</td>\n",
       "      <td>0.511059</td>\n",
       "      <td>0.503595</td>\n",
       "      <td>0.463819</td>\n",
       "      <td>0.439803</td>\n",
       "      <td>-0.144040</td>\n",
       "    </tr>\n",
       "    <tr>\n",
       "      <th>pay_amt_2</th>\n",
       "      <td>0.278651</td>\n",
       "      <td>0.006786</td>\n",
       "      <td>-0.054404</td>\n",
       "      <td>-0.013855</td>\n",
       "      <td>0.019718</td>\n",
       "      <td>-0.089490</td>\n",
       "      <td>0.073159</td>\n",
       "      <td>0.015870</td>\n",
       "      <td>0.236476</td>\n",
       "      <td>0.202617</td>\n",
       "      <td>0.171522</td>\n",
       "      <td>0.464581</td>\n",
       "      <td>0.487762</td>\n",
       "      <td>0.629043</td>\n",
       "      <td>0.538717</td>\n",
       "      <td>0.504980</td>\n",
       "      <td>0.470113</td>\n",
       "      <td>0.502030</td>\n",
       "      <td>1.000000</td>\n",
       "      <td>0.521041</td>\n",
       "      <td>0.524931</td>\n",
       "      <td>0.482733</td>\n",
       "      <td>0.474691</td>\n",
       "      <td>-0.143888</td>\n",
       "    </tr>\n",
       "    <tr>\n",
       "      <th>pay_amt_3</th>\n",
       "      <td>0.282385</td>\n",
       "      <td>0.017807</td>\n",
       "      <td>-0.043917</td>\n",
       "      <td>-0.000542</td>\n",
       "      <td>0.008221</td>\n",
       "      <td>-0.072489</td>\n",
       "      <td>0.090562</td>\n",
       "      <td>0.108722</td>\n",
       "      <td>0.065366</td>\n",
       "      <td>0.247853</td>\n",
       "      <td>0.223301</td>\n",
       "      <td>0.444212</td>\n",
       "      <td>0.475622</td>\n",
       "      <td>0.502978</td>\n",
       "      <td>0.638261</td>\n",
       "      <td>0.557991</td>\n",
       "      <td>0.514793</td>\n",
       "      <td>0.511059</td>\n",
       "      <td>0.521041</td>\n",
       "      <td>1.000000</td>\n",
       "      <td>0.523019</td>\n",
       "      <td>0.541788</td>\n",
       "      <td>0.512776</td>\n",
       "      <td>-0.116733</td>\n",
       "    </tr>\n",
       "    <tr>\n",
       "      <th>pay_amt_4</th>\n",
       "      <td>0.288044</td>\n",
       "      <td>0.006860</td>\n",
       "      <td>-0.039684</td>\n",
       "      <td>0.004927</td>\n",
       "      <td>0.046807</td>\n",
       "      <td>-0.049151</td>\n",
       "      <td>0.092032</td>\n",
       "      <td>0.122636</td>\n",
       "      <td>0.157103</td>\n",
       "      <td>0.107817</td>\n",
       "      <td>0.281953</td>\n",
       "      <td>0.446975</td>\n",
       "      <td>0.474629</td>\n",
       "      <td>0.505879</td>\n",
       "      <td>0.523062</td>\n",
       "      <td>0.653811</td>\n",
       "      <td>0.583872</td>\n",
       "      <td>0.503595</td>\n",
       "      <td>0.524931</td>\n",
       "      <td>0.523019</td>\n",
       "      <td>1.000000</td>\n",
       "      <td>0.538643</td>\n",
       "      <td>0.543461</td>\n",
       "      <td>-0.117504</td>\n",
       "    </tr>\n",
       "    <tr>\n",
       "      <th>pay_amt_5</th>\n",
       "      <td>0.299103</td>\n",
       "      <td>0.005315</td>\n",
       "      <td>-0.051381</td>\n",
       "      <td>-0.004731</td>\n",
       "      <td>0.044513</td>\n",
       "      <td>-0.031649</td>\n",
       "      <td>0.096659</td>\n",
       "      <td>0.107359</td>\n",
       "      <td>0.154337</td>\n",
       "      <td>0.162901</td>\n",
       "      <td>0.130354</td>\n",
       "      <td>0.426776</td>\n",
       "      <td>0.449505</td>\n",
       "      <td>0.476766</td>\n",
       "      <td>0.512050</td>\n",
       "      <td>0.526311</td>\n",
       "      <td>0.662261</td>\n",
       "      <td>0.463819</td>\n",
       "      <td>0.482733</td>\n",
       "      <td>0.541788</td>\n",
       "      <td>0.538643</td>\n",
       "      <td>1.000000</td>\n",
       "      <td>0.540586</td>\n",
       "      <td>-0.085836</td>\n",
       "    </tr>\n",
       "    <tr>\n",
       "      <th>pay_amt_6</th>\n",
       "      <td>0.313723</td>\n",
       "      <td>0.022989</td>\n",
       "      <td>-0.066543</td>\n",
       "      <td>0.012245</td>\n",
       "      <td>0.021471</td>\n",
       "      <td>-0.072462</td>\n",
       "      <td>0.050879</td>\n",
       "      <td>0.074539</td>\n",
       "      <td>0.119362</td>\n",
       "      <td>0.152184</td>\n",
       "      <td>0.180267</td>\n",
       "      <td>0.385637</td>\n",
       "      <td>0.407807</td>\n",
       "      <td>0.452345</td>\n",
       "      <td>0.474313</td>\n",
       "      <td>0.506113</td>\n",
       "      <td>0.515799</td>\n",
       "      <td>0.439803</td>\n",
       "      <td>0.474691</td>\n",
       "      <td>0.512776</td>\n",
       "      <td>0.543461</td>\n",
       "      <td>0.540586</td>\n",
       "      <td>1.000000</td>\n",
       "      <td>-0.135423</td>\n",
       "    </tr>\n",
       "    <tr>\n",
       "      <th>default_payment_next_month</th>\n",
       "      <td>-0.173945</td>\n",
       "      <td>-0.021765</td>\n",
       "      <td>0.060871</td>\n",
       "      <td>-0.026406</td>\n",
       "      <td>0.009883</td>\n",
       "      <td>0.326925</td>\n",
       "      <td>0.246067</td>\n",
       "      <td>0.227406</td>\n",
       "      <td>0.210646</td>\n",
       "      <td>0.210866</td>\n",
       "      <td>0.194239</td>\n",
       "      <td>-0.003601</td>\n",
       "      <td>0.006791</td>\n",
       "      <td>0.010781</td>\n",
       "      <td>0.017695</td>\n",
       "      <td>0.022826</td>\n",
       "      <td>0.028843</td>\n",
       "      <td>-0.144040</td>\n",
       "      <td>-0.143888</td>\n",
       "      <td>-0.116733</td>\n",
       "      <td>-0.117504</td>\n",
       "      <td>-0.085836</td>\n",
       "      <td>-0.135423</td>\n",
       "      <td>1.000000</td>\n",
       "    </tr>\n",
       "  </tbody>\n",
       "</table>\n",
       "</div>"
      ],
      "text/plain": [
       "                            limit_balance       sex  education_level  \\\n",
       "limit_balance                    1.000000  0.061210        -0.253357   \n",
       "sex                              0.061210  1.000000        -0.004018   \n",
       "education_level                 -0.253357 -0.004018         1.000000   \n",
       "marital_status                  -0.119561 -0.012089        -0.154977   \n",
       "age                              0.184518 -0.138173         0.177698   \n",
       "pay_0                           -0.243146 -0.068582         0.106659   \n",
       "pay_2                           -0.322271 -0.103479         0.139402   \n",
       "pay_3                           -0.312576 -0.099559         0.140373   \n",
       "pay_4                           -0.282085 -0.071169         0.131784   \n",
       "pay_5                           -0.266779 -0.052851         0.123111   \n",
       "pay_6                           -0.246150 -0.044285         0.105467   \n",
       "bill_amt_1                       0.090185 -0.069827         0.073044   \n",
       "bill_amt_2                       0.087058 -0.067161         0.072080   \n",
       "bill_amt_3                       0.096425 -0.047877         0.062308   \n",
       "bill_amt_4                       0.107477 -0.030803         0.047236   \n",
       "bill_amt_5                       0.112764 -0.024946         0.035089   \n",
       "bill_amt_6                       0.118347 -0.028069         0.035988   \n",
       "pay_amt_1                        0.286469 -0.019805        -0.039012   \n",
       "pay_amt_2                        0.278651  0.006786        -0.054404   \n",
       "pay_amt_3                        0.282385  0.017807        -0.043917   \n",
       "pay_amt_4                        0.288044  0.006860        -0.039684   \n",
       "pay_amt_5                        0.299103  0.005315        -0.051381   \n",
       "pay_amt_6                        0.313723  0.022989        -0.066543   \n",
       "default_payment_next_month      -0.173945 -0.021765         0.060871   \n",
       "\n",
       "                            marital_status       age     pay_0     pay_2  \\\n",
       "limit_balance                    -0.119561  0.184518 -0.243146 -0.322271   \n",
       "sex                              -0.012089 -0.138173 -0.068582 -0.103479   \n",
       "education_level                  -0.154977  0.177698  0.106659  0.139402   \n",
       "marital_status                    1.000000 -0.448085 -0.002957  0.061185   \n",
       "age                              -0.448085  1.000000 -0.035314 -0.097816   \n",
       "pay_0                            -0.002957 -0.035314  1.000000  0.604041   \n",
       "pay_2                             0.061185 -0.097816  0.604041  1.000000   \n",
       "pay_3                             0.048316 -0.087288  0.513675  0.795529   \n",
       "pay_4                             0.052755 -0.094178  0.485532  0.687891   \n",
       "pay_5                             0.055952 -0.101923  0.462039  0.648177   \n",
       "pay_6                             0.062868 -0.080080  0.441509  0.616631   \n",
       "bill_amt_1                        0.011392  0.018781  0.287572  0.560232   \n",
       "bill_amt_2                        0.012395  0.016657  0.294629  0.531168   \n",
       "bill_amt_3                        0.009046  0.006416  0.280028  0.495278   \n",
       "bill_amt_4                        0.010169 -0.009479  0.279062  0.484681   \n",
       "bill_amt_5                        0.014349  0.012745  0.265537  0.457926   \n",
       "bill_amt_6                        0.012940  0.020383  0.263049  0.441152   \n",
       "pay_amt_1                        -0.008213  0.041200 -0.119752  0.012918   \n",
       "pay_amt_2                        -0.013855  0.019718 -0.089490  0.073159   \n",
       "pay_amt_3                        -0.000542  0.008221 -0.072489  0.090562   \n",
       "pay_amt_4                         0.004927  0.046807 -0.049151  0.092032   \n",
       "pay_amt_5                        -0.004731  0.044513 -0.031649  0.096659   \n",
       "pay_amt_6                         0.012245  0.021471 -0.072462  0.050879   \n",
       "default_payment_next_month       -0.026406  0.009883  0.326925  0.246067   \n",
       "\n",
       "                               pay_3     pay_4     pay_5     pay_6  \\\n",
       "limit_balance              -0.312576 -0.282085 -0.266779 -0.246150   \n",
       "sex                        -0.099559 -0.071169 -0.052851 -0.044285   \n",
       "education_level             0.140373  0.131784  0.123111  0.105467   \n",
       "marital_status              0.048316  0.052755  0.055952  0.062868   \n",
       "age                        -0.087288 -0.094178 -0.101923 -0.080080   \n",
       "pay_0                       0.513675  0.485532  0.462039  0.441509   \n",
       "pay_2                       0.795529  0.687891  0.648177  0.616631   \n",
       "pay_3                       1.000000  0.766954  0.699569  0.647212   \n",
       "pay_4                       0.766954  1.000000  0.816483  0.713362   \n",
       "pay_5                       0.699569  0.816483  1.000000  0.809355   \n",
       "pay_6                       0.647212  0.713362  0.809355  1.000000   \n",
       "bill_amt_1                  0.515620  0.495276  0.476296  0.464328   \n",
       "bill_amt_2                  0.579671  0.533756  0.510179  0.502069   \n",
       "bill_amt_3                  0.537192  0.598335  0.563600  0.534708   \n",
       "bill_amt_4                  0.522243  0.581214  0.629037  0.583796   \n",
       "bill_amt_5                  0.497652  0.554219  0.602556  0.653959   \n",
       "bill_amt_6                  0.467658  0.523361  0.555000  0.615006   \n",
       "pay_amt_1                   0.209755  0.170441  0.142320  0.147121   \n",
       "pay_amt_2                   0.015870  0.236476  0.202617  0.171522   \n",
       "pay_amt_3                   0.108722  0.065366  0.247853  0.223301   \n",
       "pay_amt_4                   0.122636  0.157103  0.107817  0.281953   \n",
       "pay_amt_5                   0.107359  0.154337  0.162901  0.130354   \n",
       "pay_amt_6                   0.074539  0.119362  0.152184  0.180267   \n",
       "default_payment_next_month  0.227406  0.210646  0.210866  0.194239   \n",
       "\n",
       "                            bill_amt_1  bill_amt_2  bill_amt_3  bill_amt_4  \\\n",
       "limit_balance                 0.090185    0.087058    0.096425    0.107477   \n",
       "sex                          -0.069827   -0.067161   -0.047877   -0.030803   \n",
       "education_level               0.073044    0.072080    0.062308    0.047236   \n",
       "marital_status                0.011392    0.012395    0.009046    0.010169   \n",
       "age                           0.018781    0.016657    0.006416   -0.009479   \n",
       "pay_0                         0.287572    0.294629    0.280028    0.279062   \n",
       "pay_2                         0.560232    0.531168    0.495278    0.484681   \n",
       "pay_3                         0.515620    0.579671    0.537192    0.522243   \n",
       "pay_4                         0.495276    0.533756    0.598335    0.581214   \n",
       "pay_5                         0.476296    0.510179    0.563600    0.629037   \n",
       "pay_6                         0.464328    0.502069    0.534708    0.583796   \n",
       "bill_amt_1                    1.000000    0.911038    0.858187    0.805016   \n",
       "bill_amt_2                    0.911038    1.000000    0.910268    0.851650   \n",
       "bill_amt_3                    0.858187    0.910268    1.000000    0.901918   \n",
       "bill_amt_4                    0.805016    0.851650    0.901918    1.000000   \n",
       "bill_amt_5                    0.765460    0.808068    0.852460    0.910715   \n",
       "bill_amt_6                    0.733294    0.766769    0.806140    0.853420   \n",
       "pay_amt_1                     0.504738    0.634842    0.551230    0.509258   \n",
       "pay_amt_2                     0.464581    0.487762    0.629043    0.538717   \n",
       "pay_amt_3                     0.444212    0.475622    0.502978    0.638261   \n",
       "pay_amt_4                     0.446975    0.474629    0.505879    0.523062   \n",
       "pay_amt_5                     0.426776    0.449505    0.476766    0.512050   \n",
       "pay_amt_6                     0.385637    0.407807    0.452345    0.474313   \n",
       "default_payment_next_month   -0.003601    0.006791    0.010781    0.017695   \n",
       "\n",
       "                            bill_amt_5  bill_amt_6  pay_amt_1  pay_amt_2  \\\n",
       "limit_balance                 0.112764    0.118347   0.286469   0.278651   \n",
       "sex                          -0.024946   -0.028069  -0.019805   0.006786   \n",
       "education_level               0.035089    0.035988  -0.039012  -0.054404   \n",
       "marital_status                0.014349    0.012940  -0.008213  -0.013855   \n",
       "age                           0.012745    0.020383   0.041200   0.019718   \n",
       "pay_0                         0.265537    0.263049  -0.119752  -0.089490   \n",
       "pay_2                         0.457926    0.441152   0.012918   0.073159   \n",
       "pay_3                         0.497652    0.467658   0.209755   0.015870   \n",
       "pay_4                         0.554219    0.523361   0.170441   0.236476   \n",
       "pay_5                         0.602556    0.555000   0.142320   0.202617   \n",
       "pay_6                         0.653959    0.615006   0.147121   0.171522   \n",
       "bill_amt_1                    0.765460    0.733294   0.504738   0.464581   \n",
       "bill_amt_2                    0.808068    0.766769   0.634842   0.487762   \n",
       "bill_amt_3                    0.852460    0.806140   0.551230   0.629043   \n",
       "bill_amt_4                    0.910715    0.853420   0.509258   0.538717   \n",
       "bill_amt_5                    1.000000    0.908812   0.488988   0.504980   \n",
       "bill_amt_6                    0.908812    1.000000   0.447886   0.470113   \n",
       "pay_amt_1                     0.488988    0.447886   1.000000   0.502030   \n",
       "pay_amt_2                     0.504980    0.470113   0.502030   1.000000   \n",
       "pay_amt_3                     0.557991    0.514793   0.511059   0.521041   \n",
       "pay_amt_4                     0.653811    0.583872   0.503595   0.524931   \n",
       "pay_amt_5                     0.526311    0.662261   0.463819   0.482733   \n",
       "pay_amt_6                     0.506113    0.515799   0.439803   0.474691   \n",
       "default_payment_next_month    0.022826    0.028843  -0.144040  -0.143888   \n",
       "\n",
       "                            pay_amt_3  pay_amt_4  pay_amt_5  pay_amt_6  \\\n",
       "limit_balance                0.282385   0.288044   0.299103   0.313723   \n",
       "sex                          0.017807   0.006860   0.005315   0.022989   \n",
       "education_level             -0.043917  -0.039684  -0.051381  -0.066543   \n",
       "marital_status              -0.000542   0.004927  -0.004731   0.012245   \n",
       "age                          0.008221   0.046807   0.044513   0.021471   \n",
       "pay_0                       -0.072489  -0.049151  -0.031649  -0.072462   \n",
       "pay_2                        0.090562   0.092032   0.096659   0.050879   \n",
       "pay_3                        0.108722   0.122636   0.107359   0.074539   \n",
       "pay_4                        0.065366   0.157103   0.154337   0.119362   \n",
       "pay_5                        0.247853   0.107817   0.162901   0.152184   \n",
       "pay_6                        0.223301   0.281953   0.130354   0.180267   \n",
       "bill_amt_1                   0.444212   0.446975   0.426776   0.385637   \n",
       "bill_amt_2                   0.475622   0.474629   0.449505   0.407807   \n",
       "bill_amt_3                   0.502978   0.505879   0.476766   0.452345   \n",
       "bill_amt_4                   0.638261   0.523062   0.512050   0.474313   \n",
       "bill_amt_5                   0.557991   0.653811   0.526311   0.506113   \n",
       "bill_amt_6                   0.514793   0.583872   0.662261   0.515799   \n",
       "pay_amt_1                    0.511059   0.503595   0.463819   0.439803   \n",
       "pay_amt_2                    0.521041   0.524931   0.482733   0.474691   \n",
       "pay_amt_3                    1.000000   0.523019   0.541788   0.512776   \n",
       "pay_amt_4                    0.523019   1.000000   0.538643   0.543461   \n",
       "pay_amt_5                    0.541788   0.538643   1.000000   0.540586   \n",
       "pay_amt_6                    0.512776   0.543461   0.540586   1.000000   \n",
       "default_payment_next_month  -0.116733  -0.117504  -0.085836  -0.135423   \n",
       "\n",
       "                            default_payment_next_month  \n",
       "limit_balance                                -0.173945  \n",
       "sex                                          -0.021765  \n",
       "education_level                               0.060871  \n",
       "marital_status                               -0.026406  \n",
       "age                                           0.009883  \n",
       "pay_0                                         0.326925  \n",
       "pay_2                                         0.246067  \n",
       "pay_3                                         0.227406  \n",
       "pay_4                                         0.210646  \n",
       "pay_5                                         0.210866  \n",
       "pay_6                                         0.194239  \n",
       "bill_amt_1                                   -0.003601  \n",
       "bill_amt_2                                    0.006791  \n",
       "bill_amt_3                                    0.010781  \n",
       "bill_amt_4                                    0.017695  \n",
       "bill_amt_5                                    0.022826  \n",
       "bill_amt_6                                    0.028843  \n",
       "pay_amt_1                                    -0.144040  \n",
       "pay_amt_2                                    -0.143888  \n",
       "pay_amt_3                                    -0.116733  \n",
       "pay_amt_4                                    -0.117504  \n",
       "pay_amt_5                                    -0.085836  \n",
       "pay_amt_6                                    -0.135423  \n",
       "default_payment_next_month                    1.000000  "
      ]
     },
     "execution_count": 132,
     "metadata": {},
     "output_type": "execute_result"
    }
   ],
   "source": [
    "df.corr(\"spearman\")"
   ]
  },
  {
   "cell_type": "markdown",
   "metadata": {},
   "source": [
    "Korelasi terhadap kolom target terbesar ada pada kolom pay_0, tetapi kolom tersebut juga berkorelasi dengan kolom pay yang lainnya (pay_2 sampai pay_6). Begitu juga dengan kolom pay_amt dan bill_amt."
   ]
  },
  {
   "cell_type": "markdown",
   "metadata": {},
   "source": [
    "Cek skew tiap kolom"
   ]
  },
  {
   "cell_type": "code",
   "execution_count": 133,
   "metadata": {},
   "outputs": [
    {
     "data": {
      "text/plain": [
       "limit_balance                  1.000442\n",
       "sex                           -0.441625\n",
       "education_level                0.899875\n",
       "marital_status                -0.020106\n",
       "age                            0.772887\n",
       "pay_0                          0.926790\n",
       "pay_2                          0.861762\n",
       "pay_3                          0.931460\n",
       "pay_4                          1.101504\n",
       "pay_5                          1.060173\n",
       "pay_6                          0.978760\n",
       "bill_amt_1                     2.484598\n",
       "bill_amt_2                     2.458349\n",
       "bill_amt_3                     2.569937\n",
       "bill_amt_4                     2.448175\n",
       "bill_amt_5                     2.400343\n",
       "bill_amt_6                     2.432406\n",
       "pay_amt_1                     11.877647\n",
       "pay_amt_2                     29.404261\n",
       "pay_amt_3                      8.044639\n",
       "pay_amt_4                      8.451541\n",
       "pay_amt_5                     11.468890\n",
       "pay_amt_6                      9.760184\n",
       "default_payment_next_month     1.394199\n",
       "dtype: float64"
      ]
     },
     "execution_count": 133,
     "metadata": {},
     "output_type": "execute_result"
    }
   ],
   "source": [
    "df.skew()"
   ]
  },
  {
   "cell_type": "markdown",
   "metadata": {},
   "source": [
    "lihat histogram data target"
   ]
  },
  {
   "cell_type": "code",
   "execution_count": 134,
   "metadata": {},
   "outputs": [
    {
     "data": {
      "text/plain": [
       "Text(0.5, 1.0, 'default payment next month')"
      ]
     },
     "execution_count": 134,
     "metadata": {},
     "output_type": "execute_result"
    },
    {
     "data": {
      "image/png": "[encoded data removed]",
      "text/plain": [
       "<Figure size 1500x500 with 1 Axes>"
      ]
     },
     "metadata": {},
     "output_type": "display_data"
    }
   ],
   "source": [
    "plt.figure(figsize=(15, 5))\n",
    "plt.subplot(1, 2, 1)\n",
    "sns.histplot(df['default_payment_next_month'], bins=30)\n",
    "plt.title('default payment next month')"
   ]
  },
  {
   "cell_type": "markdown",
   "metadata": {},
   "source": [
    "sebagian besar pengguna tidak melakukan default payment di bulan selanjutnya"
   ]
  },
  {
   "cell_type": "markdown",
   "metadata": {
    "id": "DBw_XhNn2iVE"
   },
   "source": [
    "# 5 - Data Preprocessing"
   ]
  },
  {
   "cell_type": "markdown",
   "metadata": {},
   "source": [
    "Dapatkan data untuk model inference"
   ]
  },
  {
   "cell_type": "code",
   "execution_count": 135,
   "metadata": {},
   "outputs": [
    {
     "data": {
      "text/html": [
       "<div>\n",
       "<style scoped>\n",
       "    .dataframe tbody tr th:only-of-type {\n",
       "        vertical-align: middle;\n",
       "    }\n",
       "\n",
       "    .dataframe tbody tr th {\n",
       "        vertical-align: top;\n",
       "    }\n",
       "\n",
       "    .dataframe thead th {\n",
       "        text-align: right;\n",
       "    }\n",
       "</style>\n",
       "<table border=\"1\" class=\"dataframe\">\n",
       "  <thead>\n",
       "    <tr style=\"text-align: right;\">\n",
       "      <th></th>\n",
       "      <th>limit_balance</th>\n",
       "      <th>sex</th>\n",
       "      <th>education_level</th>\n",
       "      <th>marital_status</th>\n",
       "      <th>age</th>\n",
       "      <th>pay_0</th>\n",
       "      <th>pay_2</th>\n",
       "      <th>pay_3</th>\n",
       "      <th>pay_4</th>\n",
       "      <th>pay_5</th>\n",
       "      <th>pay_6</th>\n",
       "      <th>bill_amt_1</th>\n",
       "      <th>bill_amt_2</th>\n",
       "      <th>bill_amt_3</th>\n",
       "      <th>bill_amt_4</th>\n",
       "      <th>bill_amt_5</th>\n",
       "      <th>bill_amt_6</th>\n",
       "      <th>pay_amt_1</th>\n",
       "      <th>pay_amt_2</th>\n",
       "      <th>pay_amt_3</th>\n",
       "      <th>pay_amt_4</th>\n",
       "      <th>pay_amt_5</th>\n",
       "      <th>pay_amt_6</th>\n",
       "      <th>default_payment_next_month</th>\n",
       "    </tr>\n",
       "  </thead>\n",
       "  <tbody>\n",
       "    <tr>\n",
       "      <th>1765</th>\n",
       "      <td>30000.0</td>\n",
       "      <td>1</td>\n",
       "      <td>2</td>\n",
       "      <td>1</td>\n",
       "      <td>35.0</td>\n",
       "      <td>0.0</td>\n",
       "      <td>0.0</td>\n",
       "      <td>0.0</td>\n",
       "      <td>2.0</td>\n",
       "      <td>0</td>\n",
       "      <td>0</td>\n",
       "      <td>8348.0</td>\n",
       "      <td>9678.0</td>\n",
       "      <td>12702.0</td>\n",
       "      <td>12206.0</td>\n",
       "      <td>12701.0</td>\n",
       "      <td>13839.0</td>\n",
       "      <td>1476.0</td>\n",
       "      <td>3500.0</td>\n",
       "      <td>0.0</td>\n",
       "      <td>1000.0</td>\n",
       "      <td>1500.0</td>\n",
       "      <td>0.0</td>\n",
       "      <td>1</td>\n",
       "    </tr>\n",
       "    <tr>\n",
       "      <th>525</th>\n",
       "      <td>100000.0</td>\n",
       "      <td>1</td>\n",
       "      <td>1</td>\n",
       "      <td>2</td>\n",
       "      <td>26.0</td>\n",
       "      <td>0.0</td>\n",
       "      <td>0.0</td>\n",
       "      <td>0.0</td>\n",
       "      <td>0.0</td>\n",
       "      <td>0</td>\n",
       "      <td>0</td>\n",
       "      <td>91189.0</td>\n",
       "      <td>93383.0</td>\n",
       "      <td>96301.0</td>\n",
       "      <td>90858.0</td>\n",
       "      <td>92724.0</td>\n",
       "      <td>96030.0</td>\n",
       "      <td>3500.0</td>\n",
       "      <td>4300.0</td>\n",
       "      <td>4400.0</td>\n",
       "      <td>4000.0</td>\n",
       "      <td>4700.0</td>\n",
       "      <td>5000.0</td>\n",
       "      <td>0</td>\n",
       "    </tr>\n",
       "    <tr>\n",
       "      <th>1456</th>\n",
       "      <td>260000.0</td>\n",
       "      <td>2</td>\n",
       "      <td>1</td>\n",
       "      <td>2</td>\n",
       "      <td>30.0</td>\n",
       "      <td>0.0</td>\n",
       "      <td>0.0</td>\n",
       "      <td>0.0</td>\n",
       "      <td>0.0</td>\n",
       "      <td>0</td>\n",
       "      <td>0</td>\n",
       "      <td>156882.0</td>\n",
       "      <td>160246.0</td>\n",
       "      <td>159988.0</td>\n",
       "      <td>158114.0</td>\n",
       "      <td>158762.0</td>\n",
       "      <td>159108.0</td>\n",
       "      <td>10000.0</td>\n",
       "      <td>8000.0</td>\n",
       "      <td>6000.0</td>\n",
       "      <td>7000.0</td>\n",
       "      <td>7000.0</td>\n",
       "      <td>6000.0</td>\n",
       "      <td>0</td>\n",
       "    </tr>\n",
       "    <tr>\n",
       "      <th>929</th>\n",
       "      <td>140000.0</td>\n",
       "      <td>2</td>\n",
       "      <td>5</td>\n",
       "      <td>2</td>\n",
       "      <td>25.0</td>\n",
       "      <td>0.0</td>\n",
       "      <td>0.0</td>\n",
       "      <td>0.0</td>\n",
       "      <td>0.0</td>\n",
       "      <td>0</td>\n",
       "      <td>0</td>\n",
       "      <td>91485.0</td>\n",
       "      <td>78704.0</td>\n",
       "      <td>79449.0</td>\n",
       "      <td>45514.0</td>\n",
       "      <td>42155.0</td>\n",
       "      <td>42812.0</td>\n",
       "      <td>3009.0</td>\n",
       "      <td>3411.0</td>\n",
       "      <td>1523.0</td>\n",
       "      <td>1352.0</td>\n",
       "      <td>1526.0</td>\n",
       "      <td>1505.0</td>\n",
       "      <td>0</td>\n",
       "    </tr>\n",
       "    <tr>\n",
       "      <th>854</th>\n",
       "      <td>300000.0</td>\n",
       "      <td>2</td>\n",
       "      <td>2</td>\n",
       "      <td>1</td>\n",
       "      <td>46.0</td>\n",
       "      <td>1.0</td>\n",
       "      <td>-2.0</td>\n",
       "      <td>-1.0</td>\n",
       "      <td>0.0</td>\n",
       "      <td>-1</td>\n",
       "      <td>-1</td>\n",
       "      <td>0.0</td>\n",
       "      <td>0.0</td>\n",
       "      <td>194.0</td>\n",
       "      <td>1375.0</td>\n",
       "      <td>13970.0</td>\n",
       "      <td>1672.0</td>\n",
       "      <td>0.0</td>\n",
       "      <td>194.0</td>\n",
       "      <td>1181.0</td>\n",
       "      <td>14039.0</td>\n",
       "      <td>1679.0</td>\n",
       "      <td>4156.0</td>\n",
       "      <td>0</td>\n",
       "    </tr>\n",
       "    <tr>\n",
       "      <th>1178</th>\n",
       "      <td>100000.0</td>\n",
       "      <td>2</td>\n",
       "      <td>3</td>\n",
       "      <td>3</td>\n",
       "      <td>43.0</td>\n",
       "      <td>0.0</td>\n",
       "      <td>0.0</td>\n",
       "      <td>0.0</td>\n",
       "      <td>0.0</td>\n",
       "      <td>0</td>\n",
       "      <td>0</td>\n",
       "      <td>62300.0</td>\n",
       "      <td>63759.0</td>\n",
       "      <td>64448.0</td>\n",
       "      <td>38500.0</td>\n",
       "      <td>39469.0</td>\n",
       "      <td>40653.0</td>\n",
       "      <td>2464.0</td>\n",
       "      <td>1902.0</td>\n",
       "      <td>1378.0</td>\n",
       "      <td>1589.0</td>\n",
       "      <td>2000.0</td>\n",
       "      <td>1506.0</td>\n",
       "      <td>0</td>\n",
       "    </tr>\n",
       "    <tr>\n",
       "      <th>2828</th>\n",
       "      <td>180000.0</td>\n",
       "      <td>2</td>\n",
       "      <td>2</td>\n",
       "      <td>2</td>\n",
       "      <td>28.0</td>\n",
       "      <td>-1.0</td>\n",
       "      <td>-1.0</td>\n",
       "      <td>-1.0</td>\n",
       "      <td>-1.0</td>\n",
       "      <td>-1</td>\n",
       "      <td>-1</td>\n",
       "      <td>3840.0</td>\n",
       "      <td>18588.0</td>\n",
       "      <td>1557.0</td>\n",
       "      <td>2540.0</td>\n",
       "      <td>3058.0</td>\n",
       "      <td>16030.0</td>\n",
       "      <td>18588.0</td>\n",
       "      <td>1562.0</td>\n",
       "      <td>2540.0</td>\n",
       "      <td>3058.0</td>\n",
       "      <td>16030.0</td>\n",
       "      <td>330.0</td>\n",
       "      <td>0</td>\n",
       "    </tr>\n",
       "    <tr>\n",
       "      <th>1442</th>\n",
       "      <td>150000.0</td>\n",
       "      <td>2</td>\n",
       "      <td>1</td>\n",
       "      <td>2</td>\n",
       "      <td>28.0</td>\n",
       "      <td>0.0</td>\n",
       "      <td>0.0</td>\n",
       "      <td>0.0</td>\n",
       "      <td>0.0</td>\n",
       "      <td>0</td>\n",
       "      <td>0</td>\n",
       "      <td>82559.0</td>\n",
       "      <td>84681.0</td>\n",
       "      <td>87308.0</td>\n",
       "      <td>89316.0</td>\n",
       "      <td>91458.0</td>\n",
       "      <td>89063.0</td>\n",
       "      <td>3500.0</td>\n",
       "      <td>4000.0</td>\n",
       "      <td>3500.0</td>\n",
       "      <td>3500.0</td>\n",
       "      <td>3500.0</td>\n",
       "      <td>3500.0</td>\n",
       "      <td>0</td>\n",
       "    </tr>\n",
       "    <tr>\n",
       "      <th>1131</th>\n",
       "      <td>20000.0</td>\n",
       "      <td>2</td>\n",
       "      <td>2</td>\n",
       "      <td>2</td>\n",
       "      <td>30.0</td>\n",
       "      <td>1.0</td>\n",
       "      <td>2.0</td>\n",
       "      <td>0.0</td>\n",
       "      <td>0.0</td>\n",
       "      <td>0</td>\n",
       "      <td>0</td>\n",
       "      <td>16560.0</td>\n",
       "      <td>15997.0</td>\n",
       "      <td>17336.0</td>\n",
       "      <td>18345.0</td>\n",
       "      <td>18643.0</td>\n",
       "      <td>19094.0</td>\n",
       "      <td>0.0</td>\n",
       "      <td>1600.0</td>\n",
       "      <td>1602.0</td>\n",
       "      <td>900.0</td>\n",
       "      <td>900.0</td>\n",
       "      <td>636.0</td>\n",
       "      <td>0</td>\n",
       "    </tr>\n",
       "    <tr>\n",
       "      <th>2583</th>\n",
       "      <td>80000.0</td>\n",
       "      <td>1</td>\n",
       "      <td>2</td>\n",
       "      <td>2</td>\n",
       "      <td>30.0</td>\n",
       "      <td>0.0</td>\n",
       "      <td>0.0</td>\n",
       "      <td>2.0</td>\n",
       "      <td>-1.0</td>\n",
       "      <td>-1</td>\n",
       "      <td>-2</td>\n",
       "      <td>53627.0</td>\n",
       "      <td>64913.0</td>\n",
       "      <td>19476.0</td>\n",
       "      <td>61302.0</td>\n",
       "      <td>0.0</td>\n",
       "      <td>0.0</td>\n",
       "      <td>33000.0</td>\n",
       "      <td>56.0</td>\n",
       "      <td>62877.0</td>\n",
       "      <td>0.0</td>\n",
       "      <td>41150.0</td>\n",
       "      <td>81000.0</td>\n",
       "      <td>0</td>\n",
       "    </tr>\n",
       "  </tbody>\n",
       "</table>\n",
       "</div>"
      ],
      "text/plain": [
       "      limit_balance  sex  education_level  marital_status   age  pay_0  pay_2  \\\n",
       "1765        30000.0    1                2               1  35.0    0.0    0.0   \n",
       "525        100000.0    1                1               2  26.0    0.0    0.0   \n",
       "1456       260000.0    2                1               2  30.0    0.0    0.0   \n",
       "929        140000.0    2                5               2  25.0    0.0    0.0   \n",
       "854        300000.0    2                2               1  46.0    1.0   -2.0   \n",
       "1178       100000.0    2                3               3  43.0    0.0    0.0   \n",
       "2828       180000.0    2                2               2  28.0   -1.0   -1.0   \n",
       "1442       150000.0    2                1               2  28.0    0.0    0.0   \n",
       "1131        20000.0    2                2               2  30.0    1.0    2.0   \n",
       "2583        80000.0    1                2               2  30.0    0.0    0.0   \n",
       "\n",
       "      pay_3  pay_4  pay_5  pay_6  bill_amt_1  bill_amt_2  bill_amt_3  \\\n",
       "1765    0.0    2.0      0      0      8348.0      9678.0     12702.0   \n",
       "525     0.0    0.0      0      0     91189.0     93383.0     96301.0   \n",
       "1456    0.0    0.0      0      0    156882.0    160246.0    159988.0   \n",
       "929     0.0    0.0      0      0     91485.0     78704.0     79449.0   \n",
       "854    -1.0    0.0     -1     -1         0.0         0.0       194.0   \n",
       "1178    0.0    0.0      0      0     62300.0     63759.0     64448.0   \n",
       "2828   -1.0   -1.0     -1     -1      3840.0     18588.0      1557.0   \n",
       "1442    0.0    0.0      0      0     82559.0     84681.0     87308.0   \n",
       "1131    0.0    0.0      0      0     16560.0     15997.0     17336.0   \n",
       "2583    2.0   -1.0     -1     -2     53627.0     64913.0     19476.0   \n",
       "\n",
       "      bill_amt_4  bill_amt_5  bill_amt_6  pay_amt_1  pay_amt_2  pay_amt_3  \\\n",
       "1765     12206.0     12701.0     13839.0     1476.0     3500.0        0.0   \n",
       "525      90858.0     92724.0     96030.0     3500.0     4300.0     4400.0   \n",
       "1456    158114.0    158762.0    159108.0    10000.0     8000.0     6000.0   \n",
       "929      45514.0     42155.0     42812.0     3009.0     3411.0     1523.0   \n",
       "854       1375.0     13970.0      1672.0        0.0      194.0     1181.0   \n",
       "1178     38500.0     39469.0     40653.0     2464.0     1902.0     1378.0   \n",
       "2828      2540.0      3058.0     16030.0    18588.0     1562.0     2540.0   \n",
       "1442     89316.0     91458.0     89063.0     3500.0     4000.0     3500.0   \n",
       "1131     18345.0     18643.0     19094.0        0.0     1600.0     1602.0   \n",
       "2583     61302.0         0.0         0.0    33000.0       56.0    62877.0   \n",
       "\n",
       "      pay_amt_4  pay_amt_5  pay_amt_6  default_payment_next_month  \n",
       "1765     1000.0     1500.0        0.0                           1  \n",
       "525      4000.0     4700.0     5000.0                           0  \n",
       "1456     7000.0     7000.0     6000.0                           0  \n",
       "929      1352.0     1526.0     1505.0                           0  \n",
       "854     14039.0     1679.0     4156.0                           0  \n",
       "1178     1589.0     2000.0     1506.0                           0  \n",
       "2828     3058.0    16030.0      330.0                           0  \n",
       "1442     3500.0     3500.0     3500.0                           0  \n",
       "1131      900.0      900.0      636.0                           0  \n",
       "2583        0.0    41150.0    81000.0                           0  "
      ]
     },
     "execution_count": 135,
     "metadata": {},
     "output_type": "execute_result"
    }
   ],
   "source": [
    "data_inf = df.sample(10, random_state=1)\n",
    "data_inf"
   ]
  },
  {
   "cell_type": "markdown",
   "metadata": {},
   "source": [
    "Hapus data yang dijadikan inference set dari data yang akan digunakan sebagai model train-test"
   ]
  },
  {
   "cell_type": "code",
   "execution_count": 136,
   "metadata": {},
   "outputs": [
    {
     "data": {
      "text/html": [
       "<div>\n",
       "<style scoped>\n",
       "    .dataframe tbody tr th:only-of-type {\n",
       "        vertical-align: middle;\n",
       "    }\n",
       "\n",
       "    .dataframe tbody tr th {\n",
       "        vertical-align: top;\n",
       "    }\n",
       "\n",
       "    .dataframe thead th {\n",
       "        text-align: right;\n",
       "    }\n",
       "</style>\n",
       "<table border=\"1\" class=\"dataframe\">\n",
       "  <thead>\n",
       "    <tr style=\"text-align: right;\">\n",
       "      <th></th>\n",
       "      <th>limit_balance</th>\n",
       "      <th>sex</th>\n",
       "      <th>education_level</th>\n",
       "      <th>marital_status</th>\n",
       "      <th>age</th>\n",
       "      <th>pay_0</th>\n",
       "      <th>pay_2</th>\n",
       "      <th>pay_3</th>\n",
       "      <th>pay_4</th>\n",
       "      <th>pay_5</th>\n",
       "      <th>pay_6</th>\n",
       "      <th>bill_amt_1</th>\n",
       "      <th>bill_amt_2</th>\n",
       "      <th>bill_amt_3</th>\n",
       "      <th>bill_amt_4</th>\n",
       "      <th>bill_amt_5</th>\n",
       "      <th>bill_amt_6</th>\n",
       "      <th>pay_amt_1</th>\n",
       "      <th>pay_amt_2</th>\n",
       "      <th>pay_amt_3</th>\n",
       "      <th>pay_amt_4</th>\n",
       "      <th>pay_amt_5</th>\n",
       "      <th>pay_amt_6</th>\n",
       "      <th>default_payment_next_month</th>\n",
       "    </tr>\n",
       "  </thead>\n",
       "  <tbody>\n",
       "    <tr>\n",
       "      <th>0</th>\n",
       "      <td>130000.0</td>\n",
       "      <td>1</td>\n",
       "      <td>1</td>\n",
       "      <td>1</td>\n",
       "      <td>45.0</td>\n",
       "      <td>0.0</td>\n",
       "      <td>0.0</td>\n",
       "      <td>0.0</td>\n",
       "      <td>0.0</td>\n",
       "      <td>0</td>\n",
       "      <td>0</td>\n",
       "      <td>58180.0</td>\n",
       "      <td>59134.0</td>\n",
       "      <td>61156.0</td>\n",
       "      <td>62377.0</td>\n",
       "      <td>63832.0</td>\n",
       "      <td>65099.0</td>\n",
       "      <td>2886.0</td>\n",
       "      <td>2908.0</td>\n",
       "      <td>2129.0</td>\n",
       "      <td>2354.0</td>\n",
       "      <td>2366.0</td>\n",
       "      <td>2291.0</td>\n",
       "      <td>0</td>\n",
       "    </tr>\n",
       "    <tr>\n",
       "      <th>1</th>\n",
       "      <td>230000.0</td>\n",
       "      <td>1</td>\n",
       "      <td>2</td>\n",
       "      <td>1</td>\n",
       "      <td>41.0</td>\n",
       "      <td>0.0</td>\n",
       "      <td>0.0</td>\n",
       "      <td>0.0</td>\n",
       "      <td>0.0</td>\n",
       "      <td>0</td>\n",
       "      <td>0</td>\n",
       "      <td>301038.0</td>\n",
       "      <td>305327.0</td>\n",
       "      <td>213058.0</td>\n",
       "      <td>216260.0</td>\n",
       "      <td>215968.0</td>\n",
       "      <td>174195.0</td>\n",
       "      <td>9405.0</td>\n",
       "      <td>7769.0</td>\n",
       "      <td>7757.0</td>\n",
       "      <td>8030.0</td>\n",
       "      <td>6549.0</td>\n",
       "      <td>5226.0</td>\n",
       "      <td>1</td>\n",
       "    </tr>\n",
       "    <tr>\n",
       "      <th>2</th>\n",
       "      <td>50000.0</td>\n",
       "      <td>1</td>\n",
       "      <td>2</td>\n",
       "      <td>1</td>\n",
       "      <td>42.0</td>\n",
       "      <td>0.0</td>\n",
       "      <td>0.0</td>\n",
       "      <td>0.0</td>\n",
       "      <td>0.0</td>\n",
       "      <td>0</td>\n",
       "      <td>2</td>\n",
       "      <td>35892.0</td>\n",
       "      <td>32546.0</td>\n",
       "      <td>30660.0</td>\n",
       "      <td>31320.0</td>\n",
       "      <td>36227.0</td>\n",
       "      <td>35569.0</td>\n",
       "      <td>2007.0</td>\n",
       "      <td>2000.0</td>\n",
       "      <td>1500.0</td>\n",
       "      <td>5400.0</td>\n",
       "      <td>0.0</td>\n",
       "      <td>3000.0</td>\n",
       "      <td>0</td>\n",
       "    </tr>\n",
       "    <tr>\n",
       "      <th>3</th>\n",
       "      <td>200000.0</td>\n",
       "      <td>1</td>\n",
       "      <td>1</td>\n",
       "      <td>1</td>\n",
       "      <td>58.0</td>\n",
       "      <td>0.0</td>\n",
       "      <td>0.0</td>\n",
       "      <td>0.0</td>\n",
       "      <td>0.0</td>\n",
       "      <td>0</td>\n",
       "      <td>0</td>\n",
       "      <td>192461.0</td>\n",
       "      <td>195970.0</td>\n",
       "      <td>122214.0</td>\n",
       "      <td>124647.0</td>\n",
       "      <td>126921.0</td>\n",
       "      <td>129167.0</td>\n",
       "      <td>7822.0</td>\n",
       "      <td>4417.0</td>\n",
       "      <td>4446.0</td>\n",
       "      <td>4597.0</td>\n",
       "      <td>4677.0</td>\n",
       "      <td>4698.0</td>\n",
       "      <td>0</td>\n",
       "    </tr>\n",
       "    <tr>\n",
       "      <th>4</th>\n",
       "      <td>500000.0</td>\n",
       "      <td>1</td>\n",
       "      <td>1</td>\n",
       "      <td>1</td>\n",
       "      <td>39.0</td>\n",
       "      <td>0.0</td>\n",
       "      <td>0.0</td>\n",
       "      <td>0.0</td>\n",
       "      <td>0.0</td>\n",
       "      <td>0</td>\n",
       "      <td>0</td>\n",
       "      <td>133598.0</td>\n",
       "      <td>167378.0</td>\n",
       "      <td>171106.0</td>\n",
       "      <td>174500.0</td>\n",
       "      <td>137406.0</td>\n",
       "      <td>204975.0</td>\n",
       "      <td>54209.0</td>\n",
       "      <td>4607.0</td>\n",
       "      <td>4603.0</td>\n",
       "      <td>5224.0</td>\n",
       "      <td>207440.0</td>\n",
       "      <td>7509.0</td>\n",
       "      <td>0</td>\n",
       "    </tr>\n",
       "  </tbody>\n",
       "</table>\n",
       "</div>"
      ],
      "text/plain": [
       "   limit_balance  sex  education_level  marital_status   age  pay_0  pay_2  \\\n",
       "0       130000.0    1                1               1  45.0    0.0    0.0   \n",
       "1       230000.0    1                2               1  41.0    0.0    0.0   \n",
       "2        50000.0    1                2               1  42.0    0.0    0.0   \n",
       "3       200000.0    1                1               1  58.0    0.0    0.0   \n",
       "4       500000.0    1                1               1  39.0    0.0    0.0   \n",
       "\n",
       "   pay_3  pay_4  pay_5  pay_6  bill_amt_1  bill_amt_2  bill_amt_3  bill_amt_4  \\\n",
       "0    0.0    0.0      0      0     58180.0     59134.0     61156.0     62377.0   \n",
       "1    0.0    0.0      0      0    301038.0    305327.0    213058.0    216260.0   \n",
       "2    0.0    0.0      0      2     35892.0     32546.0     30660.0     31320.0   \n",
       "3    0.0    0.0      0      0    192461.0    195970.0    122214.0    124647.0   \n",
       "4    0.0    0.0      0      0    133598.0    167378.0    171106.0    174500.0   \n",
       "\n",
       "   bill_amt_5  bill_amt_6  pay_amt_1  pay_amt_2  pay_amt_3  pay_amt_4  \\\n",
       "0     63832.0     65099.0     2886.0     2908.0     2129.0     2354.0   \n",
       "1    215968.0    174195.0     9405.0     7769.0     7757.0     8030.0   \n",
       "2     36227.0     35569.0     2007.0     2000.0     1500.0     5400.0   \n",
       "3    126921.0    129167.0     7822.0     4417.0     4446.0     4597.0   \n",
       "4    137406.0    204975.0    54209.0     4607.0     4603.0     5224.0   \n",
       "\n",
       "   pay_amt_5  pay_amt_6  default_payment_next_month  \n",
       "0     2366.0     2291.0                           0  \n",
       "1     6549.0     5226.0                           1  \n",
       "2        0.0     3000.0                           0  \n",
       "3     4677.0     4698.0                           0  \n",
       "4   207440.0     7509.0                           0  "
      ]
     },
     "execution_count": 136,
     "metadata": {},
     "output_type": "execute_result"
    }
   ],
   "source": [
    "data_train_test = df.drop(data_inf.index)\n",
    "data_train_test.head()"
   ]
  },
  {
   "cell_type": "markdown",
   "metadata": {},
   "source": [
    "Reset index"
   ]
  },
  {
   "cell_type": "code",
   "execution_count": 137,
   "metadata": {},
   "outputs": [],
   "source": [
    "data_train_test.reset_index(drop=True, inplace=True)\n",
    "data_inf.reset_index(drop=True, inplace=True)"
   ]
  },
  {
   "cell_type": "markdown",
   "metadata": {},
   "source": [
    "Split X dan y (drop kolom feature yang saling berkorelasi)"
   ]
  },
  {
   "cell_type": "code",
   "execution_count": 138,
   "metadata": {},
   "outputs": [],
   "source": [
    "X = data_train_test.drop(['default_payment_next_month','pay_2','pay_3','pay_4','pay_5','pay_6','bill_amt_2','bill_amt_3','bill_amt_4','bill_amt_5','bill_amt_6','pay_amt_2','pay_amt_3','pay_amt_4','pay_amt_5','pay_amt_6'], axis=1)\n",
    "y = data_train_test['default_payment_next_month']"
   ]
  },
  {
   "cell_type": "markdown",
   "metadata": {},
   "source": [
    "Split data sebagai Train set dan Test set"
   ]
  },
  {
   "cell_type": "code",
   "execution_count": 139,
   "metadata": {},
   "outputs": [
    {
     "name": "stdout",
     "output_type": "stream",
     "text": [
      "Train Size :  (2364, 8)\n",
      "Test Size  :  (591, 8)\n"
     ]
    }
   ],
   "source": [
    "X_train, X_test, y_train, y_test = train_test_split(X, y, test_size=0.2, random_state=101)\n",
    "print('Train Size : ', X_train.shape)\n",
    "print('Test Size  : ', X_test.shape)"
   ]
  },
  {
   "cell_type": "markdown",
   "metadata": {
    "id": "K0YppFoJ8oDb"
   },
   "source": [
    "## Feature Selection"
   ]
  },
  {
   "cell_type": "markdown",
   "metadata": {},
   "source": [
    "Gunakan ANOVA untuk memilih 4 feature dengan korelasi tertinggi"
   ]
  },
  {
   "cell_type": "code",
   "execution_count": 140,
   "metadata": {},
   "outputs": [
    {
     "data": {
      "text/plain": [
       "array([5.46202630e+01, 4.06071039e-01, 4.38660343e+00, 1.58959154e+00,\n",
       "       3.67605465e-01, 3.34708571e+02, 1.21901029e-02, 9.05922376e+00])"
      ]
     },
     "execution_count": 140,
     "metadata": {},
     "output_type": "execute_result"
    }
   ],
   "source": [
    "selector = SelectKBest(f_classif, k=4)\n",
    "selector.fit(X_train,y_train)\n",
    "selector.scores_"
   ]
  },
  {
   "cell_type": "markdown",
   "metadata": {},
   "source": [
    "Dapatkan 4 kolom feature dengan korelasi tertinggi"
   ]
  },
  {
   "cell_type": "code",
   "execution_count": 141,
   "metadata": {},
   "outputs": [
    {
     "data": {
      "text/plain": [
       "array([0, 2, 5, 7], dtype=int64)"
      ]
     },
     "execution_count": 141,
     "metadata": {},
     "output_type": "execute_result"
    }
   ],
   "source": [
    "cols = selector.get_support(indices=True)\n",
    "cols"
   ]
  },
  {
   "cell_type": "markdown",
   "metadata": {},
   "source": [
    "Kolom 1, 3, 6, dan 8 adalah kolom feature dengan korelasi tertinggi"
   ]
  },
  {
   "cell_type": "code",
   "execution_count": 142,
   "metadata": {},
   "outputs": [],
   "source": [
    "X_train = X_train[['limit_balance','education_level','pay_0','pay_amt_1']]\n",
    "X_test = X_test[['limit_balance','education_level','pay_0','pay_amt_1']]"
   ]
  },
  {
   "cell_type": "markdown",
   "metadata": {},
   "source": [
    "Semua kolom numerikal jadi tidak perlu dilakukan encoding"
   ]
  },
  {
   "cell_type": "markdown",
   "metadata": {},
   "source": [
    "Lakukan normalization"
   ]
  },
  {
   "cell_type": "code",
   "execution_count": 143,
   "metadata": {},
   "outputs": [
    {
     "data": {
      "text/plain": [
       "array([[0.2278481 , 0.66666667, 0.1       , 0.024315  ],\n",
       "       [0.02531646, 0.33333333, 0.2       , 0.02026926],\n",
       "       [0.17721519, 0.33333333, 0.2       , 0.00605037],\n",
       "       ...,\n",
       "       [0.32911392, 0.33333333, 0.2       , 0.00506731],\n",
       "       [0.25316456, 0.5       , 0.3       , 0.00243231],\n",
       "       [0.17721519, 0.33333333, 0.1       , 0.29859453]])"
      ]
     },
     "execution_count": 143,
     "metadata": {},
     "output_type": "execute_result"
    }
   ],
   "source": [
    "scaler = MinMaxScaler()\n",
    "scaler.fit(X_train)\n",
    "\n",
    "X_train_num_scaled = scaler.transform(X_train)\n",
    "X_test_num_scaled = scaler.transform(X_test)\n",
    "X_train_num_scaled"
   ]
  },
  {
   "cell_type": "markdown",
   "metadata": {},
   "source": [
    "Jadikan Dataframe"
   ]
  },
  {
   "cell_type": "code",
   "execution_count": 144,
   "metadata": {},
   "outputs": [
    {
     "data": {
      "text/html": [
       "<div>\n",
       "<style scoped>\n",
       "    .dataframe tbody tr th:only-of-type {\n",
       "        vertical-align: middle;\n",
       "    }\n",
       "\n",
       "    .dataframe tbody tr th {\n",
       "        vertical-align: top;\n",
       "    }\n",
       "\n",
       "    .dataframe thead th {\n",
       "        text-align: right;\n",
       "    }\n",
       "</style>\n",
       "<table border=\"1\" class=\"dataframe\">\n",
       "  <thead>\n",
       "    <tr style=\"text-align: right;\">\n",
       "      <th></th>\n",
       "      <th>0</th>\n",
       "      <th>1</th>\n",
       "      <th>2</th>\n",
       "      <th>3</th>\n",
       "    </tr>\n",
       "  </thead>\n",
       "  <tbody>\n",
       "    <tr>\n",
       "      <th>0</th>\n",
       "      <td>0.227848</td>\n",
       "      <td>0.666667</td>\n",
       "      <td>0.1</td>\n",
       "      <td>0.024315</td>\n",
       "    </tr>\n",
       "    <tr>\n",
       "      <th>1</th>\n",
       "      <td>0.025316</td>\n",
       "      <td>0.333333</td>\n",
       "      <td>0.2</td>\n",
       "      <td>0.020269</td>\n",
       "    </tr>\n",
       "    <tr>\n",
       "      <th>2</th>\n",
       "      <td>0.177215</td>\n",
       "      <td>0.333333</td>\n",
       "      <td>0.2</td>\n",
       "      <td>0.006050</td>\n",
       "    </tr>\n",
       "    <tr>\n",
       "      <th>3</th>\n",
       "      <td>0.873418</td>\n",
       "      <td>0.166667</td>\n",
       "      <td>0.2</td>\n",
       "      <td>0.026350</td>\n",
       "    </tr>\n",
       "    <tr>\n",
       "      <th>4</th>\n",
       "      <td>0.088608</td>\n",
       "      <td>0.333333</td>\n",
       "      <td>0.2</td>\n",
       "      <td>0.016215</td>\n",
       "    </tr>\n",
       "    <tr>\n",
       "      <th>...</th>\n",
       "      <td>...</td>\n",
       "      <td>...</td>\n",
       "      <td>...</td>\n",
       "      <td>...</td>\n",
       "    </tr>\n",
       "    <tr>\n",
       "      <th>2359</th>\n",
       "      <td>0.075949</td>\n",
       "      <td>0.166667</td>\n",
       "      <td>0.2</td>\n",
       "      <td>0.005473</td>\n",
       "    </tr>\n",
       "    <tr>\n",
       "      <th>2360</th>\n",
       "      <td>0.240506</td>\n",
       "      <td>0.166667</td>\n",
       "      <td>0.2</td>\n",
       "      <td>0.008108</td>\n",
       "    </tr>\n",
       "    <tr>\n",
       "      <th>2361</th>\n",
       "      <td>0.329114</td>\n",
       "      <td>0.333333</td>\n",
       "      <td>0.2</td>\n",
       "      <td>0.005067</td>\n",
       "    </tr>\n",
       "    <tr>\n",
       "      <th>2362</th>\n",
       "      <td>0.253165</td>\n",
       "      <td>0.500000</td>\n",
       "      <td>0.3</td>\n",
       "      <td>0.002432</td>\n",
       "    </tr>\n",
       "    <tr>\n",
       "      <th>2363</th>\n",
       "      <td>0.177215</td>\n",
       "      <td>0.333333</td>\n",
       "      <td>0.1</td>\n",
       "      <td>0.298595</td>\n",
       "    </tr>\n",
       "  </tbody>\n",
       "</table>\n",
       "<p>2364 rows × 4 columns</p>\n",
       "</div>"
      ],
      "text/plain": [
       "             0         1    2         3\n",
       "0     0.227848  0.666667  0.1  0.024315\n",
       "1     0.025316  0.333333  0.2  0.020269\n",
       "2     0.177215  0.333333  0.2  0.006050\n",
       "3     0.873418  0.166667  0.2  0.026350\n",
       "4     0.088608  0.333333  0.2  0.016215\n",
       "...        ...       ...  ...       ...\n",
       "2359  0.075949  0.166667  0.2  0.005473\n",
       "2360  0.240506  0.166667  0.2  0.008108\n",
       "2361  0.329114  0.333333  0.2  0.005067\n",
       "2362  0.253165  0.500000  0.3  0.002432\n",
       "2363  0.177215  0.333333  0.1  0.298595\n",
       "\n",
       "[2364 rows x 4 columns]"
      ]
     },
     "execution_count": 144,
     "metadata": {},
     "output_type": "execute_result"
    }
   ],
   "source": [
    "X_train_final_df2 = pd.DataFrame(X_train_num_scaled)\n",
    "X_train_final_df2"
   ]
  },
  {
   "cell_type": "markdown",
   "metadata": {
    "id": "Lqa1SJb8IInd"
   },
   "source": [
    "# 6 - Model Definition"
   ]
  },
  {
   "cell_type": "markdown",
   "metadata": {
    "id": "J2aztPKAIbgB"
   },
   "source": [
    "Notes : \n",
    "\n",
    "1. Algoritma yang dipakai adalah `Logistic Regression`, `SVM`, `Decision Tree Classifier`,`Random Forest Classifier`, `KNN`, dan `Naive Bayes` .\n",
    "\n",
    "2. Metrics yang akan dipakai adalah `Precision score`."
   ]
  },
  {
   "cell_type": "code",
   "execution_count": 145,
   "metadata": {},
   "outputs": [],
   "source": [
    "log_reg = LogisticRegression()\n",
    "svm_clf = SVC()\n",
    "dt_clf = DecisionTreeClassifier()\n",
    "rf_clf = RandomForestClassifier()\n",
    "nb_clf = GaussianNB()\n",
    "knn_clf = KNeighborsClassifier()"
   ]
  },
  {
   "cell_type": "markdown",
   "metadata": {
    "id": "BzBfDMM6JAh_"
   },
   "source": [
    "# 7 - Model Training"
   ]
  },
  {
   "cell_type": "markdown",
   "metadata": {},
   "source": [
    "Lakukan training"
   ]
  },
  {
   "cell_type": "code",
   "execution_count": 146,
   "metadata": {},
   "outputs": [
    {
     "data": {
      "text/plain": [
       "LogisticRegression()"
      ]
     },
     "execution_count": 146,
     "metadata": {},
     "output_type": "execute_result"
    }
   ],
   "source": [
    "log_reg.fit(X_train_num_scaled,y_train)"
   ]
  },
  {
   "cell_type": "code",
   "execution_count": 147,
   "metadata": {},
   "outputs": [
    {
     "data": {
      "text/plain": [
       "SVC()"
      ]
     },
     "execution_count": 147,
     "metadata": {},
     "output_type": "execute_result"
    }
   ],
   "source": [
    "svm_clf.fit(X_train_num_scaled,y_train)"
   ]
  },
  {
   "cell_type": "code",
   "execution_count": 148,
   "metadata": {},
   "outputs": [
    {
     "data": {
      "text/plain": [
       "DecisionTreeClassifier()"
      ]
     },
     "execution_count": 148,
     "metadata": {},
     "output_type": "execute_result"
    }
   ],
   "source": [
    "dt_clf.fit(X_train_num_scaled,y_train)"
   ]
  },
  {
   "cell_type": "code",
   "execution_count": 149,
   "metadata": {},
   "outputs": [
    {
     "data": {
      "text/plain": [
       "RandomForestClassifier()"
      ]
     },
     "execution_count": 149,
     "metadata": {},
     "output_type": "execute_result"
    }
   ],
   "source": [
    "rf_clf.fit(X_train_num_scaled,y_train)"
   ]
  },
  {
   "cell_type": "code",
   "execution_count": 150,
   "metadata": {},
   "outputs": [
    {
     "data": {
      "text/plain": [
       "GaussianNB()"
      ]
     },
     "execution_count": 150,
     "metadata": {},
     "output_type": "execute_result"
    }
   ],
   "source": [
    "nb_clf.fit(X_train_num_scaled,y_train)"
   ]
  },
  {
   "cell_type": "code",
   "execution_count": 151,
   "metadata": {},
   "outputs": [
    {
     "data": {
      "text/plain": [
       "KNeighborsClassifier()"
      ]
     },
     "execution_count": 151,
     "metadata": {},
     "output_type": "execute_result"
    }
   ],
   "source": [
    "knn_clf.fit(X_train_num_scaled,y_train)"
   ]
  },
  {
   "cell_type": "markdown",
   "metadata": {
    "id": "jQJlDTxhJ40S"
   },
   "source": [
    "# 8 - Model Evaluation"
   ]
  },
  {
   "cell_type": "markdown",
   "metadata": {},
   "source": [
    "Predict dengan log_reg"
   ]
  },
  {
   "cell_type": "code",
   "execution_count": 152,
   "metadata": {},
   "outputs": [
    {
     "data": {
      "text/plain": [
       "array([0, 0, 0, ..., 0, 0, 0], dtype=int64)"
      ]
     },
     "execution_count": 152,
     "metadata": {},
     "output_type": "execute_result"
    }
   ],
   "source": [
    "# Predict Train-Set and Test-Set \n",
    "\n",
    "y_pred_train_log = log_reg.predict(X_train_num_scaled)\n",
    "y_pred_test_log = log_reg.predict(X_test_num_scaled)\n",
    "\n",
    "y_pred_train_log"
   ]
  },
  {
   "cell_type": "markdown",
   "metadata": {},
   "source": [
    "Predict dengan svm"
   ]
  },
  {
   "cell_type": "code",
   "execution_count": 153,
   "metadata": {},
   "outputs": [
    {
     "data": {
      "text/plain": [
       "array([0, 0, 0, ..., 0, 0, 0], dtype=int64)"
      ]
     },
     "execution_count": 153,
     "metadata": {},
     "output_type": "execute_result"
    }
   ],
   "source": [
    "# Predict Train-Set and Test-Set \n",
    "\n",
    "y_pred_train_svm = svm_clf.predict(X_train_num_scaled)\n",
    "y_pred_test_svm = svm_clf.predict(X_test_num_scaled)\n",
    "\n",
    "y_pred_train_svm"
   ]
  },
  {
   "cell_type": "markdown",
   "metadata": {},
   "source": [
    "Predict dengan Decision Tree"
   ]
  },
  {
   "cell_type": "code",
   "execution_count": 154,
   "metadata": {},
   "outputs": [
    {
     "data": {
      "text/plain": [
       "array([0, 0, 1, ..., 0, 1, 0], dtype=int64)"
      ]
     },
     "execution_count": 154,
     "metadata": {},
     "output_type": "execute_result"
    }
   ],
   "source": [
    "# Predict Train-Set and Test-Set \n",
    "\n",
    "y_pred_train_dt = dt_clf.predict(X_train_num_scaled)\n",
    "y_pred_test_dt = dt_clf.predict(X_test_num_scaled)\n",
    "\n",
    "y_pred_train_dt"
   ]
  },
  {
   "cell_type": "markdown",
   "metadata": {},
   "source": [
    "Predict dengan Random Forest"
   ]
  },
  {
   "cell_type": "code",
   "execution_count": 155,
   "metadata": {},
   "outputs": [
    {
     "data": {
      "text/plain": [
       "array([0, 0, 1, ..., 0, 1, 0], dtype=int64)"
      ]
     },
     "execution_count": 155,
     "metadata": {},
     "output_type": "execute_result"
    }
   ],
   "source": [
    "# Predict Train-Set and Test-Set \n",
    "\n",
    "y_pred_train_rf = rf_clf.predict(X_train_num_scaled)\n",
    "y_pred_test_rf = rf_clf.predict(X_test_num_scaled)\n",
    "\n",
    "y_pred_train_rf"
   ]
  },
  {
   "cell_type": "markdown",
   "metadata": {},
   "source": [
    "Predict dengan Naive Bayes"
   ]
  },
  {
   "cell_type": "code",
   "execution_count": 156,
   "metadata": {},
   "outputs": [
    {
     "data": {
      "text/plain": [
       "array([0, 0, 0, ..., 0, 0, 0], dtype=int64)"
      ]
     },
     "execution_count": 156,
     "metadata": {},
     "output_type": "execute_result"
    }
   ],
   "source": [
    "# Predict Train-Set and Test-Set \n",
    "\n",
    "y_pred_train_nb = nb_clf.predict(X_train_num_scaled)\n",
    "y_pred_test_nb = nb_clf.predict(X_test_num_scaled)\n",
    "\n",
    "y_pred_train_nb"
   ]
  },
  {
   "cell_type": "markdown",
   "metadata": {},
   "source": [
    "Predict dengan KNN"
   ]
  },
  {
   "cell_type": "code",
   "execution_count": 157,
   "metadata": {},
   "outputs": [
    {
     "data": {
      "text/plain": [
       "array([0, 0, 0, ..., 0, 0, 0], dtype=int64)"
      ]
     },
     "execution_count": 157,
     "metadata": {},
     "output_type": "execute_result"
    }
   ],
   "source": [
    "# Predict Train-Set and Test-Set \n",
    "\n",
    "y_pred_train_knn = knn_clf.predict(X_train_num_scaled)\n",
    "y_pred_test_knn = knn_clf.predict(X_test_num_scaled)\n",
    "\n",
    "y_pred_train_knn"
   ]
  },
  {
   "cell_type": "markdown",
   "metadata": {},
   "source": [
    "Lihat metric hasil prediksi menggunakan logistic regression"
   ]
  },
  {
   "cell_type": "code",
   "execution_count": 158,
   "metadata": {},
   "outputs": [
    {
     "name": "stdout",
     "output_type": "stream",
     "text": [
      "accuracy score train :  0.8092216582064298\n",
      "accuracy score test :  0.8155668358714044\n",
      "precision score train :  0.7338709677419355\n",
      "precision score test :  0.7105263157894737\n",
      "recall score train :  0.1787819253438114\n",
      "recall score test :  0.216\n"
     ]
    },
    {
     "data": {
      "image/png": "[encoded data removed]",
      "text/plain": [
       "<Figure size 640x480 with 2 Axes>"
      ]
     },
     "metadata": {},
     "output_type": "display_data"
    }
   ],
   "source": [
    "print('accuracy score train : ',accuracy_score(y_train,y_pred_train_log))\n",
    "print('accuracy score test : ',accuracy_score(y_test,y_pred_test_log))\n",
    "print('precision score train : ',precision_score(y_train,y_pred_train_log))\n",
    "print('precision score test : ',precision_score(y_test,y_pred_test_log))\n",
    "print('recall score train : ',recall_score(y_train,y_pred_train_log))\n",
    "print('recall score test : ',recall_score(y_test,y_pred_test_log))\n",
    "cm = confusion_matrix(y_train, y_pred_train_log, labels=log_reg.classes_)\n",
    "disp = ConfusionMatrixDisplay(confusion_matrix=cm,display_labels=log_reg.classes_)\n",
    "\n",
    "disp.plot()\n",
    "plt.show()"
   ]
  },
  {
   "cell_type": "markdown",
   "metadata": {},
   "source": [
    "Lihat metric hasil prediksi menggunakan SVM"
   ]
  },
  {
   "cell_type": "code",
   "execution_count": 159,
   "metadata": {},
   "outputs": [
    {
     "name": "stdout",
     "output_type": "stream",
     "text": [
      "accuracy score train :  0.8379864636209814\n",
      "accuracy score test :  0.8257191201353637\n",
      "precision score train :  0.7692307692307693\n",
      "precision score test :  0.6774193548387096\n",
      "recall score train :  0.35363457760314343\n",
      "recall score test :  0.336\n"
     ]
    },
    {
     "data": {
      "image/png": "[encoded data removed]",
      "text/plain": [
       "<Figure size 640x480 with 2 Axes>"
      ]
     },
     "metadata": {},
     "output_type": "display_data"
    }
   ],
   "source": [
    "print('accuracy score train : ',accuracy_score(y_train,y_pred_train_svm))\n",
    "print('accuracy score test : ',accuracy_score(y_test,y_pred_test_svm))\n",
    "print('precision score train : ',precision_score(y_train,y_pred_train_svm))\n",
    "print('precision score test : ',precision_score(y_test,y_pred_test_svm))\n",
    "print('recall score train : ',recall_score(y_train,y_pred_train_svm))\n",
    "print('recall score test : ',recall_score(y_test,y_pred_test_svm))\n",
    "cm = confusion_matrix(y_train, y_pred_train_svm, labels=svm_clf.classes_)\n",
    "disp = ConfusionMatrixDisplay(confusion_matrix=cm,display_labels=svm_clf.classes_)\n",
    "\n",
    "disp.plot()\n",
    "plt.show()"
   ]
  },
  {
   "cell_type": "markdown",
   "metadata": {},
   "source": [
    "Lihat metric hasil prediksi menggunakan Decision Tree Classifier"
   ]
  },
  {
   "cell_type": "code",
   "execution_count": 160,
   "metadata": {},
   "outputs": [
    {
     "name": "stdout",
     "output_type": "stream",
     "text": [
      "accuracy score train :  0.961082910321489\n",
      "accuracy score test :  0.7411167512690355\n",
      "precision score train :  0.977116704805492\n",
      "precision score test :  0.37272727272727274\n",
      "recall score train :  0.8388998035363457\n",
      "recall score test :  0.328\n"
     ]
    },
    {
     "data": {
      "image/png": "[encoded data removed]",
      "text/plain": [
       "<Figure size 640x480 with 2 Axes>"
      ]
     },
     "metadata": {},
     "output_type": "display_data"
    }
   ],
   "source": [
    "print('accuracy score train : ',accuracy_score(y_train,y_pred_train_dt))\n",
    "print('accuracy score test : ',accuracy_score(y_test,y_pred_test_dt))\n",
    "print('precision score train : ',precision_score(y_train,y_pred_train_dt))\n",
    "print('precision score test : ',precision_score(y_test,y_pred_test_dt))\n",
    "print('recall score train : ',recall_score(y_train,y_pred_train_dt))\n",
    "print('recall score test : ',recall_score(y_test,y_pred_test_dt))\n",
    "cm = confusion_matrix(y_train, y_pred_train_dt, labels=dt_clf.classes_)\n",
    "disp = ConfusionMatrixDisplay(confusion_matrix=cm,display_labels=dt_clf.classes_)\n",
    "\n",
    "disp.plot()\n",
    "plt.show()"
   ]
  },
  {
   "cell_type": "markdown",
   "metadata": {},
   "source": [
    "Lihat metric hasil prediksi menggunakan Random Forest Classifier"
   ]
  },
  {
   "cell_type": "code",
   "execution_count": 161,
   "metadata": {},
   "outputs": [
    {
     "name": "stdout",
     "output_type": "stream",
     "text": [
      "accuracy score train :  0.961082910321489\n",
      "accuracy score test :  0.8037225042301185\n",
      "precision score train :  0.9562363238512035\n",
      "precision score test :  0.5529411764705883\n",
      "recall score train :  0.8585461689587426\n",
      "recall score test :  0.376\n"
     ]
    },
    {
     "data": {
      "image/png": "[encoded data removed]",
      "text/plain": [
       "<Figure size 640x480 with 2 Axes>"
      ]
     },
     "metadata": {},
     "output_type": "display_data"
    }
   ],
   "source": [
    "print('accuracy score train : ',accuracy_score(y_train,y_pred_train_rf))\n",
    "print('accuracy score test : ',accuracy_score(y_test,y_pred_test_rf))\n",
    "print('precision score train : ',precision_score(y_train,y_pred_train_rf))\n",
    "print('precision score test : ',precision_score(y_test,y_pred_test_rf))\n",
    "print('recall score train : ',recall_score(y_train,y_pred_train_rf))\n",
    "print('recall score test : ',recall_score(y_test,y_pred_test_rf))\n",
    "cm = confusion_matrix(y_train, y_pred_train_rf, labels=rf_clf.classes_)\n",
    "disp = ConfusionMatrixDisplay(confusion_matrix=cm,display_labels=rf_clf.classes_)\n",
    "\n",
    "disp.plot()\n",
    "plt.show()"
   ]
  },
  {
   "cell_type": "markdown",
   "metadata": {},
   "source": [
    "Lihat metric hasil prediksi menggunakan Naive Bayes"
   ]
  },
  {
   "cell_type": "code",
   "execution_count": 162,
   "metadata": {},
   "outputs": [
    {
     "name": "stdout",
     "output_type": "stream",
     "text": [
      "accuracy score train :  0.8206429780033841\n",
      "accuracy score test :  0.8223350253807107\n",
      "precision score train :  0.6115485564304461\n",
      "precision score test :  0.5961538461538461\n",
      "recall score train :  0.4577603143418468\n",
      "recall score test :  0.496\n"
     ]
    },
    {
     "data": {
      "image/png": "[encoded data removed]",
      "text/plain": [
       "<Figure size 640x480 with 2 Axes>"
      ]
     },
     "metadata": {},
     "output_type": "display_data"
    }
   ],
   "source": [
    "print('accuracy score train : ',accuracy_score(y_train,y_pred_train_nb))\n",
    "print('accuracy score test : ',accuracy_score(y_test,y_pred_test_nb))\n",
    "print('precision score train : ',precision_score(y_train,y_pred_train_nb))\n",
    "print('precision score test : ',precision_score(y_test,y_pred_test_nb))\n",
    "print('recall score train : ',recall_score(y_train,y_pred_train_nb))\n",
    "print('recall score test : ',recall_score(y_test,y_pred_test_nb))\n",
    "cm = confusion_matrix(y_train, y_pred_train_nb, labels=nb_clf.classes_)\n",
    "disp = ConfusionMatrixDisplay(confusion_matrix=cm,display_labels=nb_clf.classes_)\n",
    "\n",
    "disp.plot()\n",
    "plt.show()"
   ]
  },
  {
   "cell_type": "markdown",
   "metadata": {},
   "source": [
    "Lihat metric hasil prediksi menggunakan KNN"
   ]
  },
  {
   "cell_type": "code",
   "execution_count": 163,
   "metadata": {},
   "outputs": [
    {
     "name": "stdout",
     "output_type": "stream",
     "text": [
      "accuracy score train :  0.8477157360406091\n",
      "accuracy score test :  0.8020304568527918\n",
      "precision score train :  0.7320872274143302\n",
      "precision score test :  0.5487804878048781\n",
      "recall score train :  0.46168958742632615\n",
      "recall score test :  0.36\n"
     ]
    },
    {
     "data": {
      "image/png": "[encoded data removed]",
      "text/plain": [
       "<Figure size 640x480 with 2 Axes>"
      ]
     },
     "metadata": {},
     "output_type": "display_data"
    }
   ],
   "source": [
    "print('accuracy score train : ',accuracy_score(y_train,y_pred_train_knn))\n",
    "print('accuracy score test : ',accuracy_score(y_test,y_pred_test_knn))\n",
    "print('precision score train : ',precision_score(y_train,y_pred_train_knn))\n",
    "print('precision score test : ',precision_score(y_test,y_pred_test_knn))\n",
    "print('recall score train : ',recall_score(y_train,y_pred_train_knn))\n",
    "print('recall score test : ',recall_score(y_test,y_pred_test_knn))\n",
    "cm = confusion_matrix(y_train, y_pred_train_knn, labels=knn_clf.classes_)\n",
    "disp = ConfusionMatrixDisplay(confusion_matrix=cm,display_labels=knn_clf.classes_)\n",
    "\n",
    "disp.plot()\n",
    "plt.show()"
   ]
  },
  {
   "cell_type": "markdown",
   "metadata": {},
   "source": [
    "Lakukan Cross Validation ke model log_reg"
   ]
  },
  {
   "cell_type": "code",
   "execution_count": 164,
   "metadata": {},
   "outputs": [
    {
     "name": "stdout",
     "output_type": "stream",
     "text": [
      "Mean score of 0.00 with a standard deviation of 0.00\n"
     ]
    },
    {
     "data": {
      "text/plain": [
       "array([0., 0., 0., 0., 0.])"
      ]
     },
     "execution_count": 164,
     "metadata": {},
     "output_type": "execute_result"
    }
   ],
   "source": [
    "scores_log = cross_val_score(log_reg, X, y, cv=5, scoring='precision')\n",
    "print(\"Mean score of %0.2f with a standard deviation of %0.2f\" % (scores_log.mean(), scores_log.std()))\n",
    "scores_log"
   ]
  },
  {
   "cell_type": "markdown",
   "metadata": {},
   "source": [
    "Lakukan Cross Validation ke model Decision Tree"
   ]
  },
  {
   "cell_type": "code",
   "execution_count": 165,
   "metadata": {},
   "outputs": [
    {
     "name": "stdout",
     "output_type": "stream",
     "text": [
      "Mean score of 0.36 with a standard deviation of 0.05\n"
     ]
    },
    {
     "data": {
      "text/plain": [
       "array([0.4       , 0.41964286, 0.37086093, 0.32954545, 0.28947368])"
      ]
     },
     "execution_count": 165,
     "metadata": {},
     "output_type": "execute_result"
    }
   ],
   "source": [
    "scores_dt = cross_val_score(dt_clf, X, y, cv=5, scoring='precision')\n",
    "print(\"Mean score of %0.2f with a standard deviation of %0.2f\" % (scores_dt.mean(), scores_dt.std()))\n",
    "scores_dt"
   ]
  },
  {
   "cell_type": "markdown",
   "metadata": {},
   "source": [
    "Lakukan Cross Validation ke model Random Forest"
   ]
  },
  {
   "cell_type": "code",
   "execution_count": 166,
   "metadata": {},
   "outputs": [
    {
     "name": "stdout",
     "output_type": "stream",
     "text": [
      "Mean score of 0.64 with a standard deviation of 0.10\n"
     ]
    },
    {
     "data": {
      "text/plain": [
       "array([0.55128205, 0.77358491, 0.64583333, 0.4954955 , 0.71052632])"
      ]
     },
     "execution_count": 166,
     "metadata": {},
     "output_type": "execute_result"
    }
   ],
   "source": [
    "scores_rf = cross_val_score(rf_clf, X, y, cv=5, scoring='precision')\n",
    "print(\"Mean score of %0.2f with a standard deviation of %0.2f\" % (scores_rf.mean(), scores_rf.std()))\n",
    "scores_rf"
   ]
  },
  {
   "cell_type": "markdown",
   "metadata": {},
   "source": [
    "Lakukan Cross Validation ke model Naive Bayes"
   ]
  },
  {
   "cell_type": "code",
   "execution_count": 167,
   "metadata": {},
   "outputs": [
    {
     "name": "stdout",
     "output_type": "stream",
     "text": [
      "Mean score of 0.55 with a standard deviation of 0.26\n"
     ]
    },
    {
     "data": {
      "text/plain": [
       "array([0.27423823, 0.33333333, 0.66666667, 1.        , 0.5       ])"
      ]
     },
     "execution_count": 167,
     "metadata": {},
     "output_type": "execute_result"
    }
   ],
   "source": [
    "scores_nb = cross_val_score(nb_clf, X, y, cv=5, scoring='precision')\n",
    "print(\"Mean score of %0.2f with a standard deviation of %0.2f\" % (scores_nb.mean(), scores_nb.std()))\n",
    "scores_nb"
   ]
  },
  {
   "cell_type": "markdown",
   "metadata": {},
   "source": [
    "Lakukan Cross Validation ke model KNN"
   ]
  },
  {
   "cell_type": "code",
   "execution_count": 168,
   "metadata": {},
   "outputs": [
    {
     "name": "stdout",
     "output_type": "stream",
     "text": [
      "Mean score of 0.28 with a standard deviation of 0.06\n"
     ]
    },
    {
     "data": {
      "text/plain": [
       "array([0.34375   , 0.30985915, 0.32876712, 0.23529412, 0.2       ])"
      ]
     },
     "execution_count": 168,
     "metadata": {},
     "output_type": "execute_result"
    }
   ],
   "source": [
    "scores_knn = cross_val_score(knn_clf, X, y, cv=5, scoring='precision')\n",
    "print(\"Mean score of %0.2f with a standard deviation of %0.2f\" % (scores_knn.mean(), scores_knn.std()))\n",
    "scores_knn"
   ]
  },
  {
   "cell_type": "markdown",
   "metadata": {},
   "source": [
    "Bisa dilihat hasil cross_validation terbaik ada pada model Random Forest, maka model tersebut yang akan di tune"
   ]
  },
  {
   "cell_type": "markdown",
   "metadata": {
    "id": "DJFFG_VOOLbe"
   },
   "source": [
    "# 9 - Model Tuning"
   ]
  },
  {
   "cell_type": "markdown",
   "metadata": {},
   "source": [
    "Gunakan grid search untuk dapatkan hyperparameter terbaik untuk log_reg"
   ]
  },
  {
   "cell_type": "code",
   "execution_count": 169,
   "metadata": {},
   "outputs": [
    {
     "name": "stdout",
     "output_type": "stream",
     "text": [
      "Best params: {'criterion': 'gini', 'max_depth': 6, 'n_estimators': 24}\n",
      "Best cross validaton score 0.8392589672841939\n"
     ]
    }
   ],
   "source": [
    "parameters = {\n",
    "    'n_estimators' : range(0,100),\n",
    "    'criterion' : ['gini', 'entropy', 'log_loss'],\n",
    "    'max_depth' :range(2,12)\n",
    "}\n",
    "GridSearch = GridSearchCV(RandomForestClassifier(random_state=17), parameters, cv=5)\n",
    "\n",
    "GridSearch = GridSearch.fit(X_train_num_scaled, y_train)\n",
    "\n",
    "print(\"Best params:\", GridSearch.best_params_)\n",
    "print(\"Best cross validaton score\", GridSearch.best_score_)\n"
   ]
  },
  {
   "cell_type": "markdown",
   "metadata": {},
   "source": [
    "Aplikasikan hyperparameter yang didapatkan ke model"
   ]
  },
  {
   "cell_type": "code",
   "execution_count": 170,
   "metadata": {},
   "outputs": [
    {
     "data": {
      "text/plain": [
       "RandomForestClassifier(max_depth=6, n_estimators=24, random_state=17)"
      ]
     },
     "execution_count": 170,
     "metadata": {},
     "output_type": "execute_result"
    }
   ],
   "source": [
    "rf_modt = RandomForestClassifier(criterion='gini', max_depth=6, n_estimators = 24, random_state = 17)\n",
    "rf_modt = rf_modt.fit(X_train_num_scaled, y_train)\n",
    "rf_modt"
   ]
  },
  {
   "cell_type": "markdown",
   "metadata": {},
   "source": [
    "Train model"
   ]
  },
  {
   "cell_type": "code",
   "execution_count": 171,
   "metadata": {},
   "outputs": [
    {
     "data": {
      "text/plain": [
       "RandomForestClassifier(max_depth=6, n_estimators=24, random_state=17)"
      ]
     },
     "execution_count": 171,
     "metadata": {},
     "output_type": "execute_result"
    }
   ],
   "source": [
    "rf_modt.fit(X_train_num_scaled,y_train)"
   ]
  },
  {
   "cell_type": "markdown",
   "metadata": {},
   "source": [
    "Predict dengan model yang sudah di tune"
   ]
  },
  {
   "cell_type": "code",
   "execution_count": 172,
   "metadata": {},
   "outputs": [
    {
     "data": {
      "text/plain": [
       "array([0, 0, 0, ..., 0, 0, 0], dtype=int64)"
      ]
     },
     "execution_count": 172,
     "metadata": {},
     "output_type": "execute_result"
    }
   ],
   "source": [
    "# Predict Train-Set and Test-Set \n",
    "\n",
    "y_pred_train_rft = rf_modt.predict(X_train_num_scaled)\n",
    "y_pred_test_rft = rf_modt.predict(X_test_num_scaled)\n",
    "\n",
    "y_pred_train_rft"
   ]
  },
  {
   "cell_type": "markdown",
   "metadata": {},
   "source": [
    "Lihat hasil metric nya"
   ]
  },
  {
   "cell_type": "code",
   "execution_count": 173,
   "metadata": {},
   "outputs": [
    {
     "name": "stdout",
     "output_type": "stream",
     "text": [
      "precision score train :  0.8059071729957806\n",
      "precision score test :  0.6875\n"
     ]
    },
    {
     "data": {
      "image/png": "[encoded data removed]",
      "text/plain": [
       "<Figure size 640x480 with 2 Axes>"
      ]
     },
     "metadata": {},
     "output_type": "display_data"
    }
   ],
   "source": [
    "print('precision score train : ',precision_score(y_train,y_pred_train_rft))\n",
    "print('precision score test : ',precision_score(y_test,y_pred_test_rft))\n",
    "cm = confusion_matrix(y_train, y_pred_train_rft, labels=rf_modt.classes_)\n",
    "disp = ConfusionMatrixDisplay(confusion_matrix=cm,display_labels=rf_modt.classes_)\n",
    "\n",
    "disp.plot()\n",
    "plt.show()"
   ]
  },
  {
   "cell_type": "markdown",
   "metadata": {},
   "source": [
    "\n",
    "precision score train :  0.8059071729957806\n",
    "precision score test :  0.6875\n",
    "\n",
    "precision score train :  0.9623059866962306\n",
    "precision score test :  0.5647058823529412"
   ]
  },
  {
   "cell_type": "markdown",
   "metadata": {},
   "source": [
    "Nilai Precision train turun 16% tetapi pada test naik 12%. Model masih overfit"
   ]
  },
  {
   "cell_type": "markdown",
   "metadata": {
    "id": "DJFFG_VOOLbe"
   },
   "source": [
    "# 10 - Model Saving"
   ]
  },
  {
   "cell_type": "code",
   "execution_count": 174,
   "metadata": {},
   "outputs": [],
   "source": [
    "with open('log_reg.pkl', 'wb') as file_1:\n",
    "  joblib.dump(log_reg, file_1)\n",
    "\n",
    "with open('model_scaler.pkl', 'wb') as file_2:\n",
    "  joblib.dump(scaler, file_2)\n",
    "\n",
    "with open('dt_clf.pkl', 'wb') as file_3:\n",
    "  joblib.dump(dt_clf, file_3)\n",
    "\n",
    "with open('rf_clf.pkl', 'wb') as file_4:\n",
    "  joblib.dump(rf_clf, file_4)\n",
    "\n",
    "with open('nb_clf.pkl', 'wb') as file_5:\n",
    "  joblib.dump(nb_clf, file_5)\n",
    "\n",
    "with open('knn_clf.pkl', 'wb') as file_6:\n",
    "  joblib.dump(knn_clf, file_6)\n",
    "\n",
    "with open('svm_clf.pkl', 'wb') as file_7:\n",
    "  joblib.dump(svm_clf, file_7)\n",
    "\n",
    "with open('rf_modt.pkl', 'wb') as file_8:\n",
    "  joblib.dump(rf_modt, file_8)"
   ]
  },
  {
   "cell_type": "markdown",
   "metadata": {
    "id": "UVAxUmh7RH2q"
   },
   "source": [
    "# 11 - Model Inference"
   ]
  },
  {
   "cell_type": "markdown",
   "metadata": {},
   "source": [
    "Load model"
   ]
  },
  {
   "cell_type": "code",
   "execution_count": 175,
   "metadata": {},
   "outputs": [],
   "source": [
    "with open('log_reg.pkl', 'rb') as file_1:\n",
    "  log_model = joblib.load(file_1)\n",
    "\n",
    "with open('model_scaler.pkl', 'rb') as file_2:\n",
    "  model_scaler = joblib.load(file_2)\n",
    "\n",
    "with open('dt_clf.pkl', 'rb') as file_3:\n",
    "  dt_mod = joblib.load(file_3)\n",
    "\n",
    "with open('rf_modt.pkl', 'rb') as file_4:\n",
    "  rf_modt = joblib.load(file_4)\n",
    "\n",
    "with open('rf_clf.pkl', 'rb') as file_5:\n",
    "  rf_mod = joblib.load(file_5)\n",
    "  \n",
    "with open('nb_clf.pkl', 'rb') as file_6:\n",
    "  nb_mod = joblib.load(file_6)\n",
    "\n",
    "with open('knn_clf.pkl', 'rb') as file_7:\n",
    "  knn_mod = joblib.load(file_7)\n",
    "\n",
    "with open('svm_clf.pkl', 'rb') as file_8:\n",
    "  svm_mod = joblib.load(file_8)\n",
    "  "
   ]
  },
  {
   "cell_type": "markdown",
   "metadata": {},
   "source": [
    "Load data inference dan ambil featurenya saja"
   ]
  },
  {
   "cell_type": "code",
   "execution_count": 176,
   "metadata": {},
   "outputs": [
    {
     "data": {
      "text/html": [
       "<div>\n",
       "<style scoped>\n",
       "    .dataframe tbody tr th:only-of-type {\n",
       "        vertical-align: middle;\n",
       "    }\n",
       "\n",
       "    .dataframe tbody tr th {\n",
       "        vertical-align: top;\n",
       "    }\n",
       "\n",
       "    .dataframe thead th {\n",
       "        text-align: right;\n",
       "    }\n",
       "</style>\n",
       "<table border=\"1\" class=\"dataframe\">\n",
       "  <thead>\n",
       "    <tr style=\"text-align: right;\">\n",
       "      <th></th>\n",
       "      <th>limit_balance</th>\n",
       "      <th>education_level</th>\n",
       "      <th>pay_0</th>\n",
       "      <th>pay_amt_1</th>\n",
       "    </tr>\n",
       "  </thead>\n",
       "  <tbody>\n",
       "    <tr>\n",
       "      <th>0</th>\n",
       "      <td>30000.0</td>\n",
       "      <td>2</td>\n",
       "      <td>0.0</td>\n",
       "      <td>1476.0</td>\n",
       "    </tr>\n",
       "    <tr>\n",
       "      <th>1</th>\n",
       "      <td>100000.0</td>\n",
       "      <td>1</td>\n",
       "      <td>0.0</td>\n",
       "      <td>3500.0</td>\n",
       "    </tr>\n",
       "    <tr>\n",
       "      <th>2</th>\n",
       "      <td>260000.0</td>\n",
       "      <td>1</td>\n",
       "      <td>0.0</td>\n",
       "      <td>10000.0</td>\n",
       "    </tr>\n",
       "    <tr>\n",
       "      <th>3</th>\n",
       "      <td>140000.0</td>\n",
       "      <td>5</td>\n",
       "      <td>0.0</td>\n",
       "      <td>3009.0</td>\n",
       "    </tr>\n",
       "    <tr>\n",
       "      <th>4</th>\n",
       "      <td>300000.0</td>\n",
       "      <td>2</td>\n",
       "      <td>1.0</td>\n",
       "      <td>0.0</td>\n",
       "    </tr>\n",
       "    <tr>\n",
       "      <th>5</th>\n",
       "      <td>100000.0</td>\n",
       "      <td>3</td>\n",
       "      <td>0.0</td>\n",
       "      <td>2464.0</td>\n",
       "    </tr>\n",
       "    <tr>\n",
       "      <th>6</th>\n",
       "      <td>180000.0</td>\n",
       "      <td>2</td>\n",
       "      <td>-1.0</td>\n",
       "      <td>18588.0</td>\n",
       "    </tr>\n",
       "    <tr>\n",
       "      <th>7</th>\n",
       "      <td>150000.0</td>\n",
       "      <td>1</td>\n",
       "      <td>0.0</td>\n",
       "      <td>3500.0</td>\n",
       "    </tr>\n",
       "    <tr>\n",
       "      <th>8</th>\n",
       "      <td>20000.0</td>\n",
       "      <td>2</td>\n",
       "      <td>1.0</td>\n",
       "      <td>0.0</td>\n",
       "    </tr>\n",
       "    <tr>\n",
       "      <th>9</th>\n",
       "      <td>80000.0</td>\n",
       "      <td>2</td>\n",
       "      <td>0.0</td>\n",
       "      <td>33000.0</td>\n",
       "    </tr>\n",
       "  </tbody>\n",
       "</table>\n",
       "</div>"
      ],
      "text/plain": [
       "   limit_balance  education_level  pay_0  pay_amt_1\n",
       "0        30000.0                2    0.0     1476.0\n",
       "1       100000.0                1    0.0     3500.0\n",
       "2       260000.0                1    0.0    10000.0\n",
       "3       140000.0                5    0.0     3009.0\n",
       "4       300000.0                2    1.0        0.0\n",
       "5       100000.0                3    0.0     2464.0\n",
       "6       180000.0                2   -1.0    18588.0\n",
       "7       150000.0                1    0.0     3500.0\n",
       "8        20000.0                2    1.0        0.0\n",
       "9        80000.0                2    0.0    33000.0"
      ]
     },
     "execution_count": 176,
     "metadata": {},
     "output_type": "execute_result"
    }
   ],
   "source": [
    "data_inf2 = data_inf[['limit_balance','education_level','pay_0','pay_amt_1']]\n",
    "data_inf2"
   ]
  },
  {
   "cell_type": "markdown",
   "metadata": {},
   "source": [
    "Lakukan normalization"
   ]
  },
  {
   "cell_type": "code",
   "execution_count": 177,
   "metadata": {},
   "outputs": [
    {
     "data": {
      "text/plain": [
       "array([[0.02531646, 0.33333333, 0.2       , 0.00299174],\n",
       "       [0.11392405, 0.16666667, 0.2       , 0.00709424],\n",
       "       [0.3164557 , 0.16666667, 0.2       , 0.02026926],\n",
       "       [0.16455696, 0.83333333, 0.2       , 0.00609902],\n",
       "       [0.36708861, 0.33333333, 0.3       , 0.        ],\n",
       "       [0.11392405, 0.5       , 0.2       , 0.00499434],\n",
       "       [0.21518987, 0.33333333, 0.1       , 0.03767649],\n",
       "       [0.17721519, 0.16666667, 0.2       , 0.00709424],\n",
       "       [0.01265823, 0.33333333, 0.3       , 0.        ],\n",
       "       [0.08860759, 0.33333333, 0.2       , 0.06688855]])"
      ]
     },
     "execution_count": 177,
     "metadata": {},
     "output_type": "execute_result"
    }
   ],
   "source": [
    "data_inf_scaled = model_scaler.transform(data_inf2)\n",
    "data_inf_scaled"
   ]
  },
  {
   "cell_type": "markdown",
   "metadata": {},
   "source": [
    "Predict dengan model-model yang sudah di load, lalu jadikan dataframe dengan nama kolom \"predict (nama model)\""
   ]
  },
  {
   "cell_type": "code",
   "execution_count": 178,
   "metadata": {},
   "outputs": [
    {
     "data": {
      "text/html": [
       "<div>\n",
       "<style scoped>\n",
       "    .dataframe tbody tr th:only-of-type {\n",
       "        vertical-align: middle;\n",
       "    }\n",
       "\n",
       "    .dataframe tbody tr th {\n",
       "        vertical-align: top;\n",
       "    }\n",
       "\n",
       "    .dataframe thead th {\n",
       "        text-align: right;\n",
       "    }\n",
       "</style>\n",
       "<table border=\"1\" class=\"dataframe\">\n",
       "  <thead>\n",
       "    <tr style=\"text-align: right;\">\n",
       "      <th></th>\n",
       "      <th>Predict log_model</th>\n",
       "    </tr>\n",
       "  </thead>\n",
       "  <tbody>\n",
       "    <tr>\n",
       "      <th>0</th>\n",
       "      <td>0</td>\n",
       "    </tr>\n",
       "    <tr>\n",
       "      <th>1</th>\n",
       "      <td>0</td>\n",
       "    </tr>\n",
       "    <tr>\n",
       "      <th>2</th>\n",
       "      <td>0</td>\n",
       "    </tr>\n",
       "    <tr>\n",
       "      <th>3</th>\n",
       "      <td>0</td>\n",
       "    </tr>\n",
       "    <tr>\n",
       "      <th>4</th>\n",
       "      <td>0</td>\n",
       "    </tr>\n",
       "  </tbody>\n",
       "</table>\n",
       "</div>"
      ],
      "text/plain": [
       "   Predict log_model\n",
       "0                  0\n",
       "1                  0\n",
       "2                  0\n",
       "3                  0\n",
       "4                  0"
      ]
     },
     "execution_count": 178,
     "metadata": {},
     "output_type": "execute_result"
    }
   ],
   "source": [
    "#log_model\n",
    "y_pred_inf = log_model.predict(data_inf_scaled)\n",
    "y_pred_inf_df_log = pd.DataFrame(y_pred_inf, columns=['Predict log_model'])\n",
    "y_pred_inf_df_log.head()\n"
   ]
  },
  {
   "cell_type": "code",
   "execution_count": 179,
   "metadata": {},
   "outputs": [
    {
     "data": {
      "text/html": [
       "<div>\n",
       "<style scoped>\n",
       "    .dataframe tbody tr th:only-of-type {\n",
       "        vertical-align: middle;\n",
       "    }\n",
       "\n",
       "    .dataframe tbody tr th {\n",
       "        vertical-align: top;\n",
       "    }\n",
       "\n",
       "    .dataframe thead th {\n",
       "        text-align: right;\n",
       "    }\n",
       "</style>\n",
       "<table border=\"1\" class=\"dataframe\">\n",
       "  <thead>\n",
       "    <tr style=\"text-align: right;\">\n",
       "      <th></th>\n",
       "      <th>Predict svm_mod</th>\n",
       "    </tr>\n",
       "  </thead>\n",
       "  <tbody>\n",
       "    <tr>\n",
       "      <th>0</th>\n",
       "      <td>0</td>\n",
       "    </tr>\n",
       "    <tr>\n",
       "      <th>1</th>\n",
       "      <td>0</td>\n",
       "    </tr>\n",
       "    <tr>\n",
       "      <th>2</th>\n",
       "      <td>0</td>\n",
       "    </tr>\n",
       "    <tr>\n",
       "      <th>3</th>\n",
       "      <td>0</td>\n",
       "    </tr>\n",
       "    <tr>\n",
       "      <th>4</th>\n",
       "      <td>0</td>\n",
       "    </tr>\n",
       "  </tbody>\n",
       "</table>\n",
       "</div>"
      ],
      "text/plain": [
       "   Predict svm_mod\n",
       "0                0\n",
       "1                0\n",
       "2                0\n",
       "3                0\n",
       "4                0"
      ]
     },
     "execution_count": 179,
     "metadata": {},
     "output_type": "execute_result"
    }
   ],
   "source": [
    "#svm\n",
    "y_pred_inf = svm_mod.predict(data_inf_scaled)\n",
    "y_pred_inf_df_svm = pd.DataFrame(y_pred_inf, columns=['Predict svm_mod'])\n",
    "y_pred_inf_df_svm.head()"
   ]
  },
  {
   "cell_type": "code",
   "execution_count": 180,
   "metadata": {},
   "outputs": [
    {
     "data": {
      "text/html": [
       "<div>\n",
       "<style scoped>\n",
       "    .dataframe tbody tr th:only-of-type {\n",
       "        vertical-align: middle;\n",
       "    }\n",
       "\n",
       "    .dataframe tbody tr th {\n",
       "        vertical-align: top;\n",
       "    }\n",
       "\n",
       "    .dataframe thead th {\n",
       "        text-align: right;\n",
       "    }\n",
       "</style>\n",
       "<table border=\"1\" class=\"dataframe\">\n",
       "  <thead>\n",
       "    <tr style=\"text-align: right;\">\n",
       "      <th></th>\n",
       "      <th>Predict dt_mod</th>\n",
       "    </tr>\n",
       "  </thead>\n",
       "  <tbody>\n",
       "    <tr>\n",
       "      <th>0</th>\n",
       "      <td>0</td>\n",
       "    </tr>\n",
       "    <tr>\n",
       "      <th>1</th>\n",
       "      <td>0</td>\n",
       "    </tr>\n",
       "    <tr>\n",
       "      <th>2</th>\n",
       "      <td>0</td>\n",
       "    </tr>\n",
       "    <tr>\n",
       "      <th>3</th>\n",
       "      <td>0</td>\n",
       "    </tr>\n",
       "    <tr>\n",
       "      <th>4</th>\n",
       "      <td>0</td>\n",
       "    </tr>\n",
       "  </tbody>\n",
       "</table>\n",
       "</div>"
      ],
      "text/plain": [
       "   Predict dt_mod\n",
       "0               0\n",
       "1               0\n",
       "2               0\n",
       "3               0\n",
       "4               0"
      ]
     },
     "execution_count": 180,
     "metadata": {},
     "output_type": "execute_result"
    }
   ],
   "source": [
    "#dt_mod\n",
    "y_pred_inf = dt_mod.predict(data_inf_scaled)\n",
    "y_pred_inf_df_dt = pd.DataFrame(y_pred_inf, columns=['Predict dt_mod'])\n",
    "y_pred_inf_df_dt.head()"
   ]
  },
  {
   "cell_type": "code",
   "execution_count": 181,
   "metadata": {},
   "outputs": [
    {
     "data": {
      "text/html": [
       "<div>\n",
       "<style scoped>\n",
       "    .dataframe tbody tr th:only-of-type {\n",
       "        vertical-align: middle;\n",
       "    }\n",
       "\n",
       "    .dataframe tbody tr th {\n",
       "        vertical-align: top;\n",
       "    }\n",
       "\n",
       "    .dataframe thead th {\n",
       "        text-align: right;\n",
       "    }\n",
       "</style>\n",
       "<table border=\"1\" class=\"dataframe\">\n",
       "  <thead>\n",
       "    <tr style=\"text-align: right;\">\n",
       "      <th></th>\n",
       "      <th>Predict rf_mod</th>\n",
       "    </tr>\n",
       "  </thead>\n",
       "  <tbody>\n",
       "    <tr>\n",
       "      <th>0</th>\n",
       "      <td>0</td>\n",
       "    </tr>\n",
       "    <tr>\n",
       "      <th>1</th>\n",
       "      <td>0</td>\n",
       "    </tr>\n",
       "    <tr>\n",
       "      <th>2</th>\n",
       "      <td>0</td>\n",
       "    </tr>\n",
       "    <tr>\n",
       "      <th>3</th>\n",
       "      <td>0</td>\n",
       "    </tr>\n",
       "    <tr>\n",
       "      <th>4</th>\n",
       "      <td>0</td>\n",
       "    </tr>\n",
       "  </tbody>\n",
       "</table>\n",
       "</div>"
      ],
      "text/plain": [
       "   Predict rf_mod\n",
       "0               0\n",
       "1               0\n",
       "2               0\n",
       "3               0\n",
       "4               0"
      ]
     },
     "execution_count": 181,
     "metadata": {},
     "output_type": "execute_result"
    }
   ],
   "source": [
    "#rf\n",
    "y_pred_inf = rf_mod.predict(data_inf_scaled)\n",
    "y_pred_inf_df_rf = pd.DataFrame(y_pred_inf, columns=['Predict rf_mod'])\n",
    "y_pred_inf_df_rf.head()"
   ]
  },
  {
   "cell_type": "code",
   "execution_count": 182,
   "metadata": {},
   "outputs": [
    {
     "data": {
      "text/html": [
       "<div>\n",
       "<style scoped>\n",
       "    .dataframe tbody tr th:only-of-type {\n",
       "        vertical-align: middle;\n",
       "    }\n",
       "\n",
       "    .dataframe tbody tr th {\n",
       "        vertical-align: top;\n",
       "    }\n",
       "\n",
       "    .dataframe thead th {\n",
       "        text-align: right;\n",
       "    }\n",
       "</style>\n",
       "<table border=\"1\" class=\"dataframe\">\n",
       "  <thead>\n",
       "    <tr style=\"text-align: right;\">\n",
       "      <th></th>\n",
       "      <th>Predict nb_mod</th>\n",
       "    </tr>\n",
       "  </thead>\n",
       "  <tbody>\n",
       "    <tr>\n",
       "      <th>0</th>\n",
       "      <td>0</td>\n",
       "    </tr>\n",
       "    <tr>\n",
       "      <th>1</th>\n",
       "      <td>0</td>\n",
       "    </tr>\n",
       "    <tr>\n",
       "      <th>2</th>\n",
       "      <td>0</td>\n",
       "    </tr>\n",
       "    <tr>\n",
       "      <th>3</th>\n",
       "      <td>0</td>\n",
       "    </tr>\n",
       "    <tr>\n",
       "      <th>4</th>\n",
       "      <td>0</td>\n",
       "    </tr>\n",
       "  </tbody>\n",
       "</table>\n",
       "</div>"
      ],
      "text/plain": [
       "   Predict nb_mod\n",
       "0               0\n",
       "1               0\n",
       "2               0\n",
       "3               0\n",
       "4               0"
      ]
     },
     "execution_count": 182,
     "metadata": {},
     "output_type": "execute_result"
    }
   ],
   "source": [
    "#nb\n",
    "y_pred_inf = nb_mod.predict(data_inf_scaled)\n",
    "y_pred_inf_df_nb = pd.DataFrame(y_pred_inf, columns=['Predict nb_mod'])\n",
    "y_pred_inf_df_nb.head()"
   ]
  },
  {
   "cell_type": "code",
   "execution_count": 183,
   "metadata": {},
   "outputs": [
    {
     "data": {
      "text/html": [
       "<div>\n",
       "<style scoped>\n",
       "    .dataframe tbody tr th:only-of-type {\n",
       "        vertical-align: middle;\n",
       "    }\n",
       "\n",
       "    .dataframe tbody tr th {\n",
       "        vertical-align: top;\n",
       "    }\n",
       "\n",
       "    .dataframe thead th {\n",
       "        text-align: right;\n",
       "    }\n",
       "</style>\n",
       "<table border=\"1\" class=\"dataframe\">\n",
       "  <thead>\n",
       "    <tr style=\"text-align: right;\">\n",
       "      <th></th>\n",
       "      <th>Predict knn_mod</th>\n",
       "    </tr>\n",
       "  </thead>\n",
       "  <tbody>\n",
       "    <tr>\n",
       "      <th>0</th>\n",
       "      <td>0</td>\n",
       "    </tr>\n",
       "    <tr>\n",
       "      <th>1</th>\n",
       "      <td>0</td>\n",
       "    </tr>\n",
       "    <tr>\n",
       "      <th>2</th>\n",
       "      <td>0</td>\n",
       "    </tr>\n",
       "    <tr>\n",
       "      <th>3</th>\n",
       "      <td>0</td>\n",
       "    </tr>\n",
       "    <tr>\n",
       "      <th>4</th>\n",
       "      <td>0</td>\n",
       "    </tr>\n",
       "  </tbody>\n",
       "</table>\n",
       "</div>"
      ],
      "text/plain": [
       "   Predict knn_mod\n",
       "0                0\n",
       "1                0\n",
       "2                0\n",
       "3                0\n",
       "4                0"
      ]
     },
     "execution_count": 183,
     "metadata": {},
     "output_type": "execute_result"
    }
   ],
   "source": [
    "#knn\n",
    "y_pred_inf = knn_mod.predict(data_inf_scaled)\n",
    "y_pred_inf_df_knn = pd.DataFrame(y_pred_inf, columns=['Predict knn_mod'])\n",
    "y_pred_inf_df_knn.head()"
   ]
  },
  {
   "cell_type": "code",
   "execution_count": 184,
   "metadata": {},
   "outputs": [
    {
     "data": {
      "text/html": [
       "<div>\n",
       "<style scoped>\n",
       "    .dataframe tbody tr th:only-of-type {\n",
       "        vertical-align: middle;\n",
       "    }\n",
       "\n",
       "    .dataframe tbody tr th {\n",
       "        vertical-align: top;\n",
       "    }\n",
       "\n",
       "    .dataframe thead th {\n",
       "        text-align: right;\n",
       "    }\n",
       "</style>\n",
       "<table border=\"1\" class=\"dataframe\">\n",
       "  <thead>\n",
       "    <tr style=\"text-align: right;\">\n",
       "      <th></th>\n",
       "      <th>Predict rf_modt</th>\n",
       "    </tr>\n",
       "  </thead>\n",
       "  <tbody>\n",
       "    <tr>\n",
       "      <th>0</th>\n",
       "      <td>0</td>\n",
       "    </tr>\n",
       "    <tr>\n",
       "      <th>1</th>\n",
       "      <td>0</td>\n",
       "    </tr>\n",
       "    <tr>\n",
       "      <th>2</th>\n",
       "      <td>0</td>\n",
       "    </tr>\n",
       "    <tr>\n",
       "      <th>3</th>\n",
       "      <td>0</td>\n",
       "    </tr>\n",
       "    <tr>\n",
       "      <th>4</th>\n",
       "      <td>0</td>\n",
       "    </tr>\n",
       "  </tbody>\n",
       "</table>\n",
       "</div>"
      ],
      "text/plain": [
       "   Predict rf_modt\n",
       "0                0\n",
       "1                0\n",
       "2                0\n",
       "3                0\n",
       "4                0"
      ]
     },
     "execution_count": 184,
     "metadata": {},
     "output_type": "execute_result"
    }
   ],
   "source": [
    "#log_model tuned\n",
    "y_pred_inf = rf_modt.predict(data_inf_scaled)\n",
    "y_pred_inf_df_rft = pd.DataFrame(y_pred_inf, columns=['Predict rf_modt'])\n",
    "y_pred_inf_df_rft.head()"
   ]
  },
  {
   "cell_type": "markdown",
   "metadata": {},
   "source": [
    "Concat semua dengan data_inf asli"
   ]
  },
  {
   "cell_type": "code",
   "execution_count": 185,
   "metadata": {},
   "outputs": [
    {
     "data": {
      "text/html": [
       "<div>\n",
       "<style scoped>\n",
       "    .dataframe tbody tr th:only-of-type {\n",
       "        vertical-align: middle;\n",
       "    }\n",
       "\n",
       "    .dataframe tbody tr th {\n",
       "        vertical-align: top;\n",
       "    }\n",
       "\n",
       "    .dataframe thead th {\n",
       "        text-align: right;\n",
       "    }\n",
       "</style>\n",
       "<table border=\"1\" class=\"dataframe\">\n",
       "  <thead>\n",
       "    <tr style=\"text-align: right;\">\n",
       "      <th></th>\n",
       "      <th>limit_balance</th>\n",
       "      <th>sex</th>\n",
       "      <th>education_level</th>\n",
       "      <th>marital_status</th>\n",
       "      <th>age</th>\n",
       "      <th>pay_0</th>\n",
       "      <th>pay_2</th>\n",
       "      <th>pay_3</th>\n",
       "      <th>pay_4</th>\n",
       "      <th>pay_5</th>\n",
       "      <th>pay_6</th>\n",
       "      <th>bill_amt_1</th>\n",
       "      <th>bill_amt_2</th>\n",
       "      <th>bill_amt_3</th>\n",
       "      <th>bill_amt_4</th>\n",
       "      <th>bill_amt_5</th>\n",
       "      <th>bill_amt_6</th>\n",
       "      <th>pay_amt_1</th>\n",
       "      <th>pay_amt_2</th>\n",
       "      <th>pay_amt_3</th>\n",
       "      <th>pay_amt_4</th>\n",
       "      <th>pay_amt_5</th>\n",
       "      <th>pay_amt_6</th>\n",
       "      <th>default_payment_next_month</th>\n",
       "      <th>Predict log_model</th>\n",
       "      <th>Predict svm_mod</th>\n",
       "      <th>Predict dt_mod</th>\n",
       "      <th>Predict rf_mod</th>\n",
       "      <th>Predict nb_mod</th>\n",
       "      <th>Predict knn_mod</th>\n",
       "      <th>Predict rf_modt</th>\n",
       "    </tr>\n",
       "  </thead>\n",
       "  <tbody>\n",
       "    <tr>\n",
       "      <th>0</th>\n",
       "      <td>30000.0</td>\n",
       "      <td>1</td>\n",
       "      <td>2</td>\n",
       "      <td>1</td>\n",
       "      <td>35.0</td>\n",
       "      <td>0.0</td>\n",
       "      <td>0.0</td>\n",
       "      <td>0.0</td>\n",
       "      <td>2.0</td>\n",
       "      <td>0</td>\n",
       "      <td>0</td>\n",
       "      <td>8348.0</td>\n",
       "      <td>9678.0</td>\n",
       "      <td>12702.0</td>\n",
       "      <td>12206.0</td>\n",
       "      <td>12701.0</td>\n",
       "      <td>13839.0</td>\n",
       "      <td>1476.0</td>\n",
       "      <td>3500.0</td>\n",
       "      <td>0.0</td>\n",
       "      <td>1000.0</td>\n",
       "      <td>1500.0</td>\n",
       "      <td>0.0</td>\n",
       "      <td>1</td>\n",
       "      <td>0</td>\n",
       "      <td>0</td>\n",
       "      <td>0</td>\n",
       "      <td>0</td>\n",
       "      <td>0</td>\n",
       "      <td>0</td>\n",
       "      <td>0</td>\n",
       "    </tr>\n",
       "    <tr>\n",
       "      <th>1</th>\n",
       "      <td>100000.0</td>\n",
       "      <td>1</td>\n",
       "      <td>1</td>\n",
       "      <td>2</td>\n",
       "      <td>26.0</td>\n",
       "      <td>0.0</td>\n",
       "      <td>0.0</td>\n",
       "      <td>0.0</td>\n",
       "      <td>0.0</td>\n",
       "      <td>0</td>\n",
       "      <td>0</td>\n",
       "      <td>91189.0</td>\n",
       "      <td>93383.0</td>\n",
       "      <td>96301.0</td>\n",
       "      <td>90858.0</td>\n",
       "      <td>92724.0</td>\n",
       "      <td>96030.0</td>\n",
       "      <td>3500.0</td>\n",
       "      <td>4300.0</td>\n",
       "      <td>4400.0</td>\n",
       "      <td>4000.0</td>\n",
       "      <td>4700.0</td>\n",
       "      <td>5000.0</td>\n",
       "      <td>0</td>\n",
       "      <td>0</td>\n",
       "      <td>0</td>\n",
       "      <td>0</td>\n",
       "      <td>0</td>\n",
       "      <td>0</td>\n",
       "      <td>0</td>\n",
       "      <td>0</td>\n",
       "    </tr>\n",
       "    <tr>\n",
       "      <th>2</th>\n",
       "      <td>260000.0</td>\n",
       "      <td>2</td>\n",
       "      <td>1</td>\n",
       "      <td>2</td>\n",
       "      <td>30.0</td>\n",
       "      <td>0.0</td>\n",
       "      <td>0.0</td>\n",
       "      <td>0.0</td>\n",
       "      <td>0.0</td>\n",
       "      <td>0</td>\n",
       "      <td>0</td>\n",
       "      <td>156882.0</td>\n",
       "      <td>160246.0</td>\n",
       "      <td>159988.0</td>\n",
       "      <td>158114.0</td>\n",
       "      <td>158762.0</td>\n",
       "      <td>159108.0</td>\n",
       "      <td>10000.0</td>\n",
       "      <td>8000.0</td>\n",
       "      <td>6000.0</td>\n",
       "      <td>7000.0</td>\n",
       "      <td>7000.0</td>\n",
       "      <td>6000.0</td>\n",
       "      <td>0</td>\n",
       "      <td>0</td>\n",
       "      <td>0</td>\n",
       "      <td>0</td>\n",
       "      <td>0</td>\n",
       "      <td>0</td>\n",
       "      <td>0</td>\n",
       "      <td>0</td>\n",
       "    </tr>\n",
       "    <tr>\n",
       "      <th>3</th>\n",
       "      <td>140000.0</td>\n",
       "      <td>2</td>\n",
       "      <td>5</td>\n",
       "      <td>2</td>\n",
       "      <td>25.0</td>\n",
       "      <td>0.0</td>\n",
       "      <td>0.0</td>\n",
       "      <td>0.0</td>\n",
       "      <td>0.0</td>\n",
       "      <td>0</td>\n",
       "      <td>0</td>\n",
       "      <td>91485.0</td>\n",
       "      <td>78704.0</td>\n",
       "      <td>79449.0</td>\n",
       "      <td>45514.0</td>\n",
       "      <td>42155.0</td>\n",
       "      <td>42812.0</td>\n",
       "      <td>3009.0</td>\n",
       "      <td>3411.0</td>\n",
       "      <td>1523.0</td>\n",
       "      <td>1352.0</td>\n",
       "      <td>1526.0</td>\n",
       "      <td>1505.0</td>\n",
       "      <td>0</td>\n",
       "      <td>0</td>\n",
       "      <td>0</td>\n",
       "      <td>0</td>\n",
       "      <td>0</td>\n",
       "      <td>0</td>\n",
       "      <td>0</td>\n",
       "      <td>0</td>\n",
       "    </tr>\n",
       "    <tr>\n",
       "      <th>4</th>\n",
       "      <td>300000.0</td>\n",
       "      <td>2</td>\n",
       "      <td>2</td>\n",
       "      <td>1</td>\n",
       "      <td>46.0</td>\n",
       "      <td>1.0</td>\n",
       "      <td>-2.0</td>\n",
       "      <td>-1.0</td>\n",
       "      <td>0.0</td>\n",
       "      <td>-1</td>\n",
       "      <td>-1</td>\n",
       "      <td>0.0</td>\n",
       "      <td>0.0</td>\n",
       "      <td>194.0</td>\n",
       "      <td>1375.0</td>\n",
       "      <td>13970.0</td>\n",
       "      <td>1672.0</td>\n",
       "      <td>0.0</td>\n",
       "      <td>194.0</td>\n",
       "      <td>1181.0</td>\n",
       "      <td>14039.0</td>\n",
       "      <td>1679.0</td>\n",
       "      <td>4156.0</td>\n",
       "      <td>0</td>\n",
       "      <td>0</td>\n",
       "      <td>0</td>\n",
       "      <td>0</td>\n",
       "      <td>0</td>\n",
       "      <td>0</td>\n",
       "      <td>0</td>\n",
       "      <td>0</td>\n",
       "    </tr>\n",
       "    <tr>\n",
       "      <th>5</th>\n",
       "      <td>100000.0</td>\n",
       "      <td>2</td>\n",
       "      <td>3</td>\n",
       "      <td>3</td>\n",
       "      <td>43.0</td>\n",
       "      <td>0.0</td>\n",
       "      <td>0.0</td>\n",
       "      <td>0.0</td>\n",
       "      <td>0.0</td>\n",
       "      <td>0</td>\n",
       "      <td>0</td>\n",
       "      <td>62300.0</td>\n",
       "      <td>63759.0</td>\n",
       "      <td>64448.0</td>\n",
       "      <td>38500.0</td>\n",
       "      <td>39469.0</td>\n",
       "      <td>40653.0</td>\n",
       "      <td>2464.0</td>\n",
       "      <td>1902.0</td>\n",
       "      <td>1378.0</td>\n",
       "      <td>1589.0</td>\n",
       "      <td>2000.0</td>\n",
       "      <td>1506.0</td>\n",
       "      <td>0</td>\n",
       "      <td>0</td>\n",
       "      <td>0</td>\n",
       "      <td>0</td>\n",
       "      <td>0</td>\n",
       "      <td>0</td>\n",
       "      <td>0</td>\n",
       "      <td>0</td>\n",
       "    </tr>\n",
       "    <tr>\n",
       "      <th>6</th>\n",
       "      <td>180000.0</td>\n",
       "      <td>2</td>\n",
       "      <td>2</td>\n",
       "      <td>2</td>\n",
       "      <td>28.0</td>\n",
       "      <td>-1.0</td>\n",
       "      <td>-1.0</td>\n",
       "      <td>-1.0</td>\n",
       "      <td>-1.0</td>\n",
       "      <td>-1</td>\n",
       "      <td>-1</td>\n",
       "      <td>3840.0</td>\n",
       "      <td>18588.0</td>\n",
       "      <td>1557.0</td>\n",
       "      <td>2540.0</td>\n",
       "      <td>3058.0</td>\n",
       "      <td>16030.0</td>\n",
       "      <td>18588.0</td>\n",
       "      <td>1562.0</td>\n",
       "      <td>2540.0</td>\n",
       "      <td>3058.0</td>\n",
       "      <td>16030.0</td>\n",
       "      <td>330.0</td>\n",
       "      <td>0</td>\n",
       "      <td>0</td>\n",
       "      <td>0</td>\n",
       "      <td>0</td>\n",
       "      <td>0</td>\n",
       "      <td>0</td>\n",
       "      <td>0</td>\n",
       "      <td>0</td>\n",
       "    </tr>\n",
       "    <tr>\n",
       "      <th>7</th>\n",
       "      <td>150000.0</td>\n",
       "      <td>2</td>\n",
       "      <td>1</td>\n",
       "      <td>2</td>\n",
       "      <td>28.0</td>\n",
       "      <td>0.0</td>\n",
       "      <td>0.0</td>\n",
       "      <td>0.0</td>\n",
       "      <td>0.0</td>\n",
       "      <td>0</td>\n",
       "      <td>0</td>\n",
       "      <td>82559.0</td>\n",
       "      <td>84681.0</td>\n",
       "      <td>87308.0</td>\n",
       "      <td>89316.0</td>\n",
       "      <td>91458.0</td>\n",
       "      <td>89063.0</td>\n",
       "      <td>3500.0</td>\n",
       "      <td>4000.0</td>\n",
       "      <td>3500.0</td>\n",
       "      <td>3500.0</td>\n",
       "      <td>3500.0</td>\n",
       "      <td>3500.0</td>\n",
       "      <td>0</td>\n",
       "      <td>0</td>\n",
       "      <td>0</td>\n",
       "      <td>0</td>\n",
       "      <td>0</td>\n",
       "      <td>0</td>\n",
       "      <td>0</td>\n",
       "      <td>0</td>\n",
       "    </tr>\n",
       "    <tr>\n",
       "      <th>8</th>\n",
       "      <td>20000.0</td>\n",
       "      <td>2</td>\n",
       "      <td>2</td>\n",
       "      <td>2</td>\n",
       "      <td>30.0</td>\n",
       "      <td>1.0</td>\n",
       "      <td>2.0</td>\n",
       "      <td>0.0</td>\n",
       "      <td>0.0</td>\n",
       "      <td>0</td>\n",
       "      <td>0</td>\n",
       "      <td>16560.0</td>\n",
       "      <td>15997.0</td>\n",
       "      <td>17336.0</td>\n",
       "      <td>18345.0</td>\n",
       "      <td>18643.0</td>\n",
       "      <td>19094.0</td>\n",
       "      <td>0.0</td>\n",
       "      <td>1600.0</td>\n",
       "      <td>1602.0</td>\n",
       "      <td>900.0</td>\n",
       "      <td>900.0</td>\n",
       "      <td>636.0</td>\n",
       "      <td>0</td>\n",
       "      <td>0</td>\n",
       "      <td>0</td>\n",
       "      <td>0</td>\n",
       "      <td>0</td>\n",
       "      <td>1</td>\n",
       "      <td>0</td>\n",
       "      <td>0</td>\n",
       "    </tr>\n",
       "    <tr>\n",
       "      <th>9</th>\n",
       "      <td>80000.0</td>\n",
       "      <td>1</td>\n",
       "      <td>2</td>\n",
       "      <td>2</td>\n",
       "      <td>30.0</td>\n",
       "      <td>0.0</td>\n",
       "      <td>0.0</td>\n",
       "      <td>2.0</td>\n",
       "      <td>-1.0</td>\n",
       "      <td>-1</td>\n",
       "      <td>-2</td>\n",
       "      <td>53627.0</td>\n",
       "      <td>64913.0</td>\n",
       "      <td>19476.0</td>\n",
       "      <td>61302.0</td>\n",
       "      <td>0.0</td>\n",
       "      <td>0.0</td>\n",
       "      <td>33000.0</td>\n",
       "      <td>56.0</td>\n",
       "      <td>62877.0</td>\n",
       "      <td>0.0</td>\n",
       "      <td>41150.0</td>\n",
       "      <td>81000.0</td>\n",
       "      <td>0</td>\n",
       "      <td>0</td>\n",
       "      <td>0</td>\n",
       "      <td>0</td>\n",
       "      <td>0</td>\n",
       "      <td>0</td>\n",
       "      <td>0</td>\n",
       "      <td>0</td>\n",
       "    </tr>\n",
       "  </tbody>\n",
       "</table>\n",
       "</div>"
      ],
      "text/plain": [
       "   limit_balance  sex  education_level  marital_status   age  pay_0  pay_2  \\\n",
       "0        30000.0    1                2               1  35.0    0.0    0.0   \n",
       "1       100000.0    1                1               2  26.0    0.0    0.0   \n",
       "2       260000.0    2                1               2  30.0    0.0    0.0   \n",
       "3       140000.0    2                5               2  25.0    0.0    0.0   \n",
       "4       300000.0    2                2               1  46.0    1.0   -2.0   \n",
       "5       100000.0    2                3               3  43.0    0.0    0.0   \n",
       "6       180000.0    2                2               2  28.0   -1.0   -1.0   \n",
       "7       150000.0    2                1               2  28.0    0.0    0.0   \n",
       "8        20000.0    2                2               2  30.0    1.0    2.0   \n",
       "9        80000.0    1                2               2  30.0    0.0    0.0   \n",
       "\n",
       "   pay_3  pay_4  pay_5  pay_6  bill_amt_1  bill_amt_2  bill_amt_3  bill_amt_4  \\\n",
       "0    0.0    2.0      0      0      8348.0      9678.0     12702.0     12206.0   \n",
       "1    0.0    0.0      0      0     91189.0     93383.0     96301.0     90858.0   \n",
       "2    0.0    0.0      0      0    156882.0    160246.0    159988.0    158114.0   \n",
       "3    0.0    0.0      0      0     91485.0     78704.0     79449.0     45514.0   \n",
       "4   -1.0    0.0     -1     -1         0.0         0.0       194.0      1375.0   \n",
       "5    0.0    0.0      0      0     62300.0     63759.0     64448.0     38500.0   \n",
       "6   -1.0   -1.0     -1     -1      3840.0     18588.0      1557.0      2540.0   \n",
       "7    0.0    0.0      0      0     82559.0     84681.0     87308.0     89316.0   \n",
       "8    0.0    0.0      0      0     16560.0     15997.0     17336.0     18345.0   \n",
       "9    2.0   -1.0     -1     -2     53627.0     64913.0     19476.0     61302.0   \n",
       "\n",
       "   bill_amt_5  bill_amt_6  pay_amt_1  pay_amt_2  pay_amt_3  pay_amt_4  \\\n",
       "0     12701.0     13839.0     1476.0     3500.0        0.0     1000.0   \n",
       "1     92724.0     96030.0     3500.0     4300.0     4400.0     4000.0   \n",
       "2    158762.0    159108.0    10000.0     8000.0     6000.0     7000.0   \n",
       "3     42155.0     42812.0     3009.0     3411.0     1523.0     1352.0   \n",
       "4     13970.0      1672.0        0.0      194.0     1181.0    14039.0   \n",
       "5     39469.0     40653.0     2464.0     1902.0     1378.0     1589.0   \n",
       "6      3058.0     16030.0    18588.0     1562.0     2540.0     3058.0   \n",
       "7     91458.0     89063.0     3500.0     4000.0     3500.0     3500.0   \n",
       "8     18643.0     19094.0        0.0     1600.0     1602.0      900.0   \n",
       "9         0.0         0.0    33000.0       56.0    62877.0        0.0   \n",
       "\n",
       "   pay_amt_5  pay_amt_6  default_payment_next_month  Predict log_model  \\\n",
       "0     1500.0        0.0                           1                  0   \n",
       "1     4700.0     5000.0                           0                  0   \n",
       "2     7000.0     6000.0                           0                  0   \n",
       "3     1526.0     1505.0                           0                  0   \n",
       "4     1679.0     4156.0                           0                  0   \n",
       "5     2000.0     1506.0                           0                  0   \n",
       "6    16030.0      330.0                           0                  0   \n",
       "7     3500.0     3500.0                           0                  0   \n",
       "8      900.0      636.0                           0                  0   \n",
       "9    41150.0    81000.0                           0                  0   \n",
       "\n",
       "   Predict svm_mod  Predict dt_mod  Predict rf_mod  Predict nb_mod  \\\n",
       "0                0               0               0               0   \n",
       "1                0               0               0               0   \n",
       "2                0               0               0               0   \n",
       "3                0               0               0               0   \n",
       "4                0               0               0               0   \n",
       "5                0               0               0               0   \n",
       "6                0               0               0               0   \n",
       "7                0               0               0               0   \n",
       "8                0               0               0               1   \n",
       "9                0               0               0               0   \n",
       "\n",
       "   Predict knn_mod  Predict rf_modt  \n",
       "0                0                0  \n",
       "1                0                0  \n",
       "2                0                0  \n",
       "3                0                0  \n",
       "4                0                0  \n",
       "5                0                0  \n",
       "6                0                0  \n",
       "7                0                0  \n",
       "8                0                0  \n",
       "9                0                0  "
      ]
     },
     "execution_count": 185,
     "metadata": {},
     "output_type": "execute_result"
    }
   ],
   "source": [
    "pd.concat([data_inf, y_pred_inf_df_log, y_pred_inf_df_svm, y_pred_inf_df_dt, y_pred_inf_df_rf, y_pred_inf_df_nb, y_pred_inf_df_knn, y_pred_inf_df_rft], axis=1)"
   ]
  },
  {
   "cell_type": "markdown",
   "metadata": {
    "id": "uIiVUi1jVjbb"
   },
   "source": [
    "# 12 - Kesimpulan"
   ]
  },
  {
   "cell_type": "markdown",
   "metadata": {
    "id": "uB1ijJTdVtJX"
   },
   "source": [
    "1. Metric yang digunakan adalah Precision karena pada kasus ini, saya ingin meminimalisir kemunculan False Positive (seharusnya belum bayar (0) tetapi terprediksi sudah bayar (1)) karena dari 2 kemungkinan kesalahan(False negative dan False Positive), kesalahan prediksi ini adalah kesalahan yang lebih mudah di mitigasi oleh pihak perusahaan kartu kredit.\n",
    "\n",
    "2. Pada base model Logistic Regression, data train memiliki Precision 73% dan data test memiliki Precision 71%. Maka dari itu, model ini bisa dibilang goodfit karena selisih Precision yang sangat kecil. \n",
    "\n",
    "3. Pada base model SVM, data train memiliki Precision 76% dan data test memiliki Precision 67%. Maka dari itu, model ini bisa dibilang overfit karena Precision train lebih besar dan selisihnya besar.\n",
    "\n",
    "4. Pada base model Decision Tree Classifier, data train memiliki Precision 97% dan data test memiliki Precision 36%. Maka dari itu, model ini bisa dibilang overfit karena Precision train lebih besar dan selisihnya besar.\n",
    "\n",
    "5. Pada base model Random Forest Classifier, data train memiliki Precision 96% dan data test memiliki Precision 56%. Maka dari itu, model ini bisa dibilang overfit karena Precision train lebih besar dan selisihnya besar.\n",
    "\n",
    "6. Pada base model Naive Bayes, data train memiliki Precision 61% dan data test memiliki Precision 59%. Maka dari itu, model ini bisa dibilang goodfit karena selisih Precision yang sangat kecil.\n",
    "\n",
    "7. Pada base model KNN, data train memiliki Precision 73% dan data test memiliki Precision 54%. Maka dari itu, model ini bisa dibilang overfit karena Precision train lebih besar dan selisihnya besar.\n",
    "\n",
    "8. Pada tuned model Random Forest Classifier, data train memiliki Precision 80% dan data test memiliki Precision 68%. Maka dari itu, model ini bisa dibilang overfit karena Precision train lebih besar dan selisihnya besar. \n",
    "\n",
    "9. Tuning yang dilakukan model Random Forest adalah dengan gridsearch dan mencari hyperparameter berupa max_depth, criterion dan n_estimator.\n",
    "\n",
    "10. Dari proses EDA, bisa dilihat bahwa semua kolom numerikal sehingga hanya perlu dilakukan normalisasi.\n",
    "\n",
    "11. Dari korelasi spearman, bisa dilihat bahwa ada beberapa kolom feature yang berkorelasi yaitu semua kolom pay, bill_amt, dan pay_amt, maka hanya akan diambil 1 saja untuk tiap kolom.\n",
    "\n",
    "12. Improvement yang bisa dilakukan pada model ini adalah dengan mencoba kombinasi feature yang lain, mencoba hyperparameter lain, dan memperkaya isi dari dataset yang diberikan.\n",
    "\n",
    "13. Hasil prediksi ke data inference tidak ada yang memiliki akurasi 100%. Untuk detilnya bisa dilihat pada tabel terakhir."
   ]
  },
  {
   "cell_type": "markdown",
   "metadata": {
    "id": "uIiVUi1jVjbb"
   },
   "source": [
    "# 13 - Conceptual Problem"
   ]
  },
  {
   "cell_type": "markdown",
   "metadata": {
    "id": "uB1ijJTdVtJX"
   },
   "source": [
    "1. Apakah fungsi parameter criterion pada Decision Tree? Jelaskan salah satu criterion yang kalian pahami!\n",
    "* fungsi criterion adalah untuk memisahkan atribut. Salah satu contoh criterion adalah gini. Nilai gini adalah sebuah metric yang menjadi tolak ukur apakah sebubah node termasuk bagian dari sebuah kelas atau bukan. Nilai gini yang lebih dari 0 menandakan sampel dalam node tersebut adalah milik kelas yang lain.\n",
    "\n",
    "2. Apakah fungsi dari pruning pada Tree model?\n",
    "* Fungsi pruning pada Tree model adalah mengurangi jumlah tree dalam model random forest\n",
    "\n",
    "3. Bagaimana cara memilih K yang optimal pada KNN?\n",
    "* Nilai K yang kecil membuat noise berpengaruh besar pada hasil. Sementara nilai K yang besar membuat waktu komputasi mejadi lebih lama. Pendekatan sederhana untuk memilih nilai K adalah <br>\n",
    "k = n^(1/2).\n",
    "\n",
    "4. Jelaskan apa yang kalian ketahui tentang Cross Validation!\n",
    "*  Cross Validation adalah sebuah teknik untuk melihat efektivitas dari sebuah model, yang biasanya digunakan untuk menanggulangi kasus overfitting atau untuk menentukan hyperparameter yang sebaiknya digunakan dalam tuning agar mendapatkan error yang lebih kecil.\n",
    "\n",
    "5. Jelaskan apa yang kalian ketahui tentang Accuracy, Precision, Recall, F1 Score!\n",
    "\n",
    "*  Accuracy adalah nilai ketepatan sebuah model dalam memprediksi target.\n",
    "\n",
    "* Precision adalah presentase dari nilai prediksi positif yang sebenarnya memang positif (True Positive)\n",
    "\n",
    "*  Recall adalah presentase dari nilai positive yang berhasil di prediksi dan prediksi nya tepat\n",
    "\n",
    "* F1 score adalah rata-rata dari precision dan recall"
   ]
  }
 ],
 "metadata": {
  "kernelspec": {
   "display_name": "Python 3.7.9 64-bit",
   "language": "python",
   "name": "python3"
  },
  "language_info": {
   "codemirror_mode": {
    "name": "ipython",
    "version": 3
   },
   "file_extension": ".py",
   "mimetype": "text/x-python",
   "name": "python",
   "nbconvert_exporter": "python",
   "pygments_lexer": "ipython3",
   "version": "3.7.9"
  },
  "orig_nbformat": 4,
  "vscode": {
   "interpreter": {
    "hash": "3f89355f18d4dbd985dae6e1ed1ed8953c7814bef0ec7c3c56b7077b7f657e9d"
   }
  }
 },
 "nbformat": 4,
 "nbformat_minor": 2
}
